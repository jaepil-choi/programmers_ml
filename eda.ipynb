{
 "cells": [
  {
   "cell_type": "markdown",
   "id": "61c44b7d-1879-42ea-8229-058bc928932a",
   "metadata": {},
   "source": [
    "# Art Painting 이미지를 사용한 정확도 올리기\n",
    "\n",
    "## <문제>\n",
    "\n",
    "제공된 훈련데이터를 사용하여 모델을 훈련한 후 테스트 데이터에 대한 예측 카테고리 값을 csv파일로 제출하세요.\n",
    "\n",
    "아래의 훈련데이터만을 사용하여 각 카테고리별로 분류가 잘 되도록 신경망을 구성하세요.\n",
    "각 카테고리 별 정답 값은 아래와 같습니다.\n",
    "\n",
    "- 'dog' : 0\n",
    "- 'elephant' : 1\n",
    "- 'giraffe' : 2\n",
    "- 'guitar' : 3\n",
    "- 'horse' : 4\n",
    "- 'house' : 5\n",
    "- 'person' : 6\n",
    "\n",
    "## <목적>\n",
    "\n",
    "주어진 데이터를 활용하여 정확도를 최대로 높이세요.\n",
    "\n",
    "## 데이터 설명\n",
    "\n",
    "데이터 셋은 art painting으로 구성되어 있으며 7개의 카테고리로 구분되어 있습니다.\n",
    "\n",
    "7개의 카테고리로는 classes에서 정의한 dog, elephant, giraffe, guitar, horse, house, person를 포함합니다.\n",
    "\n",
    "하나의 이미지의 사이즈는 [3(Channel) * 227(Width) * 227(Height)]이며 각 카테고리 별 예시 이미지는 아래에서 확인할 수 있습니다.\n",
    "\n",
    "훈련 데이터는 art painting 1698장이며 테스트 데이터는 art painting 350장입니다.\n",
    "\n",
    "## <최종 제출 파일과 코드>\n",
    "\n",
    "- submission.csv\n",
    "\n",
    "최종 제출 파일은 label 필드를 가지는 csv파일이며 테스트 데이터의 label을 값으로 가져야 합니다.\n",
    "최종 제출 파일은 test_answer(sample).csv 파일과 같은 크기여야 하고 label값을 채워야합니다.\n",
    "\n",
    "- ipynb 파일 (주피터 노트북)\n",
    "\n",
    "- 최종 제출한 결과를 확인할 수 있는 소스 코드와 코드에 대한 간략한 설명을 STEP 4에서 파일 업로드 버튼을 클릭하여 제출합니다.\n",
    "\n",
    "- 소스 코드에 대한 간략한 설명은 다음을 포함해야 합니다.\n",
    "\n",
    "    - 문제를 어떤 관점에서 정의하였는지\n",
    "\n",
    "    - 문제 해결 위해 만든 모델에 대한 설명과 그 모델을 선택한 이유\n",
    "\n",
    "- .py 파일이나 .R 파일은 받지 않습니다.\n",
    "\n",
    "submission.csv과 ipynb 파일을 모두 제출하지 않을 경우 탈락처리됩니다.\n",
    "\n",
    "## <데이터 관련 안내>\n",
    "\n",
    "train 데이터 안에는 각 라벨별로 폴더가 나뉘어져 있으며 각 폴더 안의 파일을 사용하여 학습하여야 합니다.\n",
    "\n",
    "test 데이터는 라벨별로 폴더가 나뉘어져있지 않으며 임의의 순서대로 이미지가 섞여있습니다.\n",
    "최종 제출물의 경우 데이터의 순서가 오름차순으로 정렬되어 있습니다. 이 순서대로 각 이미지에 대한 라벨 값을 작성하여 제출하세요.\n",
    "\n",
    "## <채점 방식>\n",
    "\n",
    "테스트 데이터에서 추정한 label 값을 사용해 정확도를 구하고 이를 기준으로 채점합니다."
   ]
  },
  {
   "cell_type": "code",
   "execution_count": 122,
   "id": "583d7a22-5108-49d3-a880-e33996181a96",
   "metadata": {},
   "outputs": [
    {
     "name": "stdout",
     "output_type": "stream",
     "text": [
      "Sun May 23 17:37:57 2021       \n",
      "+-----------------------------------------------------------------------------+\n",
      "| NVIDIA-SMI 462.59       Driver Version: 462.59       CUDA Version: 11.2     |\n",
      "|-------------------------------+----------------------+----------------------+\n",
      "| GPU  Name            TCC/WDDM | Bus-Id        Disp.A | Volatile Uncorr. ECC |\n",
      "| Fan  Temp  Perf  Pwr:Usage/Cap|         Memory-Usage | GPU-Util  Compute M. |\n",
      "|                               |                      |               MIG M. |\n",
      "|===============================+======================+======================|\n",
      "|   0  GeForce RTX 3070   WDDM  | 00000000:07:00.0  On |                  N/A |\n",
      "|  0%   35C    P8    17W / 240W |   6305MiB /  8192MiB |      2%      Default |\n",
      "|                               |                      |                  N/A |\n",
      "+-------------------------------+----------------------+----------------------+\n",
      "                                                                               \n",
      "+-----------------------------------------------------------------------------+\n",
      "| Processes:                                                                  |\n",
      "|  GPU   GI   CI        PID   Type   Process name                  GPU Memory |\n",
      "|        ID   ID                                                   Usage      |\n",
      "|=============================================================================|\n",
      "|    0   N/A  N/A      1576    C+G   ...me\\Application\\chrome.exe    N/A      |\n",
      "|    0   N/A  N/A      1596    C+G   ...nputApp\\TextInputHost.exe    N/A      |\n",
      "|    0   N/A  N/A      3884    C+G   ...ams\\Evernote\\Evernote.exe    N/A      |\n",
      "|    0   N/A  N/A      3972    C+G   ...s\\PowerToys\\PowerToys.exe    N/A      |\n",
      "|    0   N/A  N/A      5392    C+G   ...me\\Application\\chrome.exe    N/A      |\n",
      "|    0   N/A  N/A      5700      C   Insufficient Permissions        N/A      |\n",
      "|    0   N/A  N/A      7092    C+G   ...rograms\\Notion\\Notion.exe    N/A      |\n",
      "|    0   N/A  N/A      8640    C+G   ...icrosoft VS Code\\Code.exe    N/A      |\n",
      "|    0   N/A  N/A     11936    C+G   ...y\\ShellExperienceHost.exe    N/A      |\n",
      "|    0   N/A  N/A     12800    C+G   ...obeNotificationClient.exe    N/A      |\n",
      "|    0   N/A  N/A     12920    C+G   ...e\\Current\\LogiOverlay.exe    N/A      |\n",
      "|    0   N/A  N/A     13748    C+G   ...5n1h2txyewy\\SearchApp.exe    N/A      |\n",
      "|    0   N/A  N/A     15184    C+G   ...3d8bbwe\\WhiteboardWRT.exe    N/A      |\n",
      "|    0   N/A  N/A     15196    C+G   ...b3d8bbwe\\WinStore.App.exe    N/A      |\n",
      "|    0   N/A  N/A     15276    C+G   Insufficient Permissions        N/A      |\n",
      "|    0   N/A  N/A     16296    C+G   ...cw5n1h2txyewy\\LockApp.exe    N/A      |\n",
      "|    0   N/A  N/A     16848    C+G   ...lPanel\\SystemSettings.exe    N/A      |\n",
      "|    0   N/A  N/A     17640    C+G   ...perience\\NVIDIA Share.exe    N/A      |\n",
      "|    0   N/A  N/A     18700    C+G   C:\\Windows\\explorer.exe         N/A      |\n",
      "|    0   N/A  N/A     18996    C+G   Insufficient Permissions        N/A      |\n",
      "|    0   N/A  N/A     19040    C+G   Insufficient Permissions        N/A      |\n",
      "|    0   N/A  N/A     20224    C+G   ...8wekyb3d8bbwe\\Cortana.exe    N/A      |\n",
      "|    0   N/A  N/A     20828    C+G   ...lack\\app-4.16.1\\slack.exe    N/A      |\n",
      "|    0   N/A  N/A     21136    C+G   ...grams\\todoist\\Todoist.exe    N/A      |\n",
      "|    0   N/A  N/A     24656    C+G   ...ekyb3d8bbwe\\onenoteim.exe    N/A      |\n",
      "|    0   N/A  N/A     25228    C+G   ...ekyb3d8bbwe\\YourPhone.exe    N/A      |\n",
      "|    0   N/A  N/A     28648    C+G   ...\\app-3.4.2\\SourceTree.exe    N/A      |\n",
      "|    0   N/A  N/A     32436    C+G   ...bbwe\\Microsoft.Photos.exe    N/A      |\n",
      "|    0   N/A  N/A     33832    C+G   ...batNotificationClient.exe    N/A      |\n",
      "|    0   N/A  N/A     38160      C   ...deeplearning38\\python.exe    N/A      |\n",
      "+-----------------------------------------------------------------------------+\n"
     ]
    }
   ],
   "source": [
    "!nvidia-smi"
   ]
  },
  {
   "cell_type": "code",
   "execution_count": 123,
   "id": "ab4de727-eb56-4af5-93f2-11cb59717db1",
   "metadata": {},
   "outputs": [
    {
     "name": "stdout",
     "output_type": "stream",
     "text": [
      "\n",
      "     active environment : deeplearning38\n",
      "    active env location : C:\\Users\\chlje\\anaconda3\\envs\\deeplearning38\n",
      "            shell level : 2\n",
      "       user config file : C:\\Users\\chlje\\.condarc\n",
      " populated config files : C:\\Users\\chlje\\.condarc\n",
      "          conda version : 4.10.1\n",
      "    conda-build version : 3.21.4\n",
      "         python version : 3.8.8.final.0\n",
      "       virtual packages : __cuda=11.2=0\n",
      "                          __win=0=0\n",
      "                          __archspec=1=x86_64\n",
      "       base environment : C:\\Users\\chlje\\anaconda3  (writable)\n",
      "      conda av data dir : C:\\Users\\chlje\\anaconda3\\etc\\conda\n",
      "  conda av metadata url : https://repo.anaconda.com/pkgs/main\n",
      "           channel URLs : https://repo.anaconda.com/pkgs/main/win-64\n",
      "                          https://repo.anaconda.com/pkgs/main/noarch\n",
      "                          https://repo.anaconda.com/pkgs/r/win-64\n",
      "                          https://repo.anaconda.com/pkgs/r/noarch\n",
      "                          https://repo.anaconda.com/pkgs/msys2/win-64\n",
      "                          https://repo.anaconda.com/pkgs/msys2/noarch\n",
      "          package cache : C:\\Users\\chlje\\anaconda3\\pkgs\n",
      "                          C:\\Users\\chlje\\.conda\\pkgs\n",
      "                          C:\\Users\\chlje\\AppData\\Local\\conda\\conda\\pkgs\n",
      "       envs directories : C:\\Users\\chlje\\anaconda3\\envs\n",
      "                          C:\\Users\\chlje\\.conda\\envs\n",
      "                          C:\\Users\\chlje\\AppData\\Local\\conda\\conda\\envs\n",
      "               platform : win-64\n",
      "             user-agent : conda/4.10.1 requests/2.25.1 CPython/3.8.8 Windows/10 Windows/10.0.19041\n",
      "          administrator : False\n",
      "             netrc file : C:\\Users\\chlje/.netrc\n",
      "           offline mode : False\n",
      "\n",
      "\n",
      "Note: you may need to restart the kernel to use updated packages.\n"
     ]
    }
   ],
   "source": [
    "%conda info"
   ]
  },
  {
   "cell_type": "markdown",
   "id": "00014f29-e909-4dda-a25c-3836d8be73a1",
   "metadata": {},
   "source": [
    "# EDA"
   ]
  },
  {
   "cell_type": "code",
   "execution_count": 124,
   "id": "d0f636a5-7501-4d96-9b48-0f7c41480845",
   "metadata": {},
   "outputs": [],
   "source": [
    "import os, sys\n",
    "from pathlib import Path\n",
    "from glob import glob"
   ]
  },
  {
   "cell_type": "code",
   "execution_count": 125,
   "id": "15f69c4c-2438-41c1-bcc6-6dd63bac745b",
   "metadata": {},
   "outputs": [],
   "source": [
    "import matplotlib as mpl\n",
    "import matplotlib.pyplot as plt\n",
    "import seaborn as sns"
   ]
  },
  {
   "cell_type": "code",
   "execution_count": 126,
   "id": "3ed1a744-cc87-45c4-852f-85117195473b",
   "metadata": {},
   "outputs": [],
   "source": [
    "import numpy as np\n",
    "import pandas as pd"
   ]
  },
  {
   "cell_type": "code",
   "execution_count": 127,
   "id": "7790643f-9be8-49b2-b065-fb0fba26046e",
   "metadata": {},
   "outputs": [],
   "source": [
    "import json\n",
    "import pickle"
   ]
  },
  {
   "cell_type": "code",
   "execution_count": 128,
   "id": "3cbfeb5e-2d83-4faf-ba2b-a2087bc0fc17",
   "metadata": {},
   "outputs": [],
   "source": [
    "import matplotlib.image as mpimg\n",
    "from PIL import Image"
   ]
  },
  {
   "cell_type": "code",
   "execution_count": 129,
   "id": "47c1ed9d-31d9-4bf6-9d23-5f62d478e4b9",
   "metadata": {},
   "outputs": [],
   "source": [
    "from tqdm import tqdm, trange\n",
    "# from tqdm.notebook import tqdm\n",
    "from time import time"
   ]
  },
  {
   "cell_type": "code",
   "execution_count": 130,
   "id": "3f24e5ca-6dc3-48f3-837c-eb28b15acf0a",
   "metadata": {},
   "outputs": [
    {
     "data": {
      "text/plain": [
       "'1.7.1'"
      ]
     },
     "execution_count": 130,
     "metadata": {},
     "output_type": "execute_result"
    }
   ],
   "source": [
    "import torch\n",
    "import torch.nn as nn\n",
    "import torch.nn.functional as F\n",
    "import torch.optim as optim\n",
    "\n",
    "torch.__version__"
   ]
  },
  {
   "cell_type": "code",
   "execution_count": 131,
   "id": "c08e2e23-b076-4de6-8359-9a3c2bcb86b6",
   "metadata": {},
   "outputs": [
    {
     "data": {
      "text/plain": [
       "device(type='cuda', index=0)"
      ]
     },
     "execution_count": 131,
     "metadata": {},
     "output_type": "execute_result"
    }
   ],
   "source": [
    "device = torch.device('cuda:0' if torch.cuda.is_available() else 'cpu')\n",
    "device # Always check cudatoolkit version!"
   ]
  },
  {
   "cell_type": "code",
   "execution_count": 132,
   "id": "0079f43c-0326-40e5-b21d-9e9b041c6400",
   "metadata": {},
   "outputs": [],
   "source": [
    "from torch.utils.data import Subset, Dataset, DataLoader"
   ]
  },
  {
   "cell_type": "code",
   "execution_count": 133,
   "id": "06a67030-d250-434a-9cee-7a3fad6f6f17",
   "metadata": {},
   "outputs": [],
   "source": [
    "import cv2"
   ]
  },
  {
   "cell_type": "code",
   "execution_count": 134,
   "id": "d8c55387-bf17-4bd9-a529-3594f5752492",
   "metadata": {},
   "outputs": [],
   "source": [
    "from torchvision import transforms\n",
    "import albumentations as A\n",
    "from albumentations.pytorch import ToTensorV2"
   ]
  },
  {
   "cell_type": "code",
   "execution_count": 135,
   "id": "f3f467cd-821d-4142-8fc1-d4c341131d59",
   "metadata": {},
   "outputs": [],
   "source": [
    "import torchvision\n",
    "import timm"
   ]
  },
  {
   "cell_type": "code",
   "execution_count": 136,
   "id": "bdea5763-b83d-4670-8ce4-e61f0dbfc118",
   "metadata": {},
   "outputs": [
    {
     "data": {
      "text/plain": [
       "True"
      ]
     },
     "execution_count": 136,
     "metadata": {},
     "output_type": "execute_result"
    }
   ],
   "source": [
    "import wandb\n",
    "\n",
    "wandb.login()"
   ]
  },
  {
   "cell_type": "code",
   "execution_count": 191,
   "id": "010487c5-637e-4803-9fe9-2f097c1edeac",
   "metadata": {},
   "outputs": [],
   "source": [
    "batch_size = 16\n",
    "# num_workers = 8\n",
    "shuffle = True\n",
    "pin_memory = torch.cuda.is_available()\n",
    "drop_last = True"
   ]
  },
  {
   "cell_type": "code",
   "execution_count": 245,
   "id": "92f80d6c-b353-41c3-a800-7590ef1a71e7",
   "metadata": {},
   "outputs": [],
   "source": [
    "epochs = 15\n",
    "lr = 1e-5"
   ]
  },
  {
   "cell_type": "code",
   "execution_count": 246,
   "id": "7040ffae-c45f-46e6-8156-ac322539d22f",
   "metadata": {
    "tags": []
   },
   "outputs": [],
   "source": [
    "# wandb.init(\n",
    "#     project=\"programmers_image_cls\",\n",
    "#     config={\n",
    "        \n",
    "#     }\n",
    "# )"
   ]
  },
  {
   "cell_type": "markdown",
   "id": "5f739207-6964-47e3-89ac-363fb15daa56",
   "metadata": {},
   "source": [
    "## Load Data"
   ]
  },
  {
   "cell_type": "code",
   "execution_count": 247,
   "id": "59d97b1f-9254-4689-a27c-669af50ac5f8",
   "metadata": {},
   "outputs": [],
   "source": [
    "data_path = Path('.').resolve() / \"data\"\n",
    "train_path = data_path / \"train\"\n",
    "test_path = data_path / \"test\" / \"0\"\n",
    "output_path = data_path / \"output\"\n",
    "processed_path = output_path / \"processed\""
   ]
  },
  {
   "cell_type": "code",
   "execution_count": 248,
   "id": "15be897d-f4cb-4fcc-80ac-c35c239ce2e7",
   "metadata": {},
   "outputs": [
    {
     "data": {
      "text/plain": [
       "[WindowsPath('E:/VSCodeProjects/programmers_ml/data/train/dog/pic_001.jpg'),\n",
       " WindowsPath('E:/VSCodeProjects/programmers_ml/data/train/dog/pic_002.jpg'),\n",
       " WindowsPath('E:/VSCodeProjects/programmers_ml/data/train/dog/pic_003.jpg'),\n",
       " WindowsPath('E:/VSCodeProjects/programmers_ml/data/train/dog/pic_004.jpg'),\n",
       " WindowsPath('E:/VSCodeProjects/programmers_ml/data/train/dog/pic_005.jpg'),\n",
       " WindowsPath('E:/VSCodeProjects/programmers_ml/data/train/dog/pic_006.jpg'),\n",
       " WindowsPath('E:/VSCodeProjects/programmers_ml/data/train/dog/pic_007.jpg'),\n",
       " WindowsPath('E:/VSCodeProjects/programmers_ml/data/train/dog/pic_008.jpg'),\n",
       " WindowsPath('E:/VSCodeProjects/programmers_ml/data/train/dog/pic_009.jpg'),\n",
       " WindowsPath('E:/VSCodeProjects/programmers_ml/data/train/dog/pic_010.jpg')]"
      ]
     },
     "execution_count": 248,
     "metadata": {},
     "output_type": "execute_result"
    }
   ],
   "source": [
    "train_l = list(train_path.glob('**/*'))\n",
    "train_l = [p for p in train_l if p.is_file()]\n",
    "train_l[:10]"
   ]
  },
  {
   "cell_type": "code",
   "execution_count": 249,
   "id": "9a452cd3-be24-4c9b-af31-531e57e85b6d",
   "metadata": {},
   "outputs": [
    {
     "data": {
      "text/plain": [
       "1698"
      ]
     },
     "execution_count": 249,
     "metadata": {},
     "output_type": "execute_result"
    }
   ],
   "source": [
    "len(train_l)"
   ]
  },
  {
   "cell_type": "code",
   "execution_count": 250,
   "id": "0b6d7db3-eb09-4421-9b0e-84f1b82f2a66",
   "metadata": {},
   "outputs": [
    {
     "data": {
      "text/plain": [
       "[WindowsPath('E:/VSCodeProjects/programmers_ml/data/test/0/0001.jpg'),\n",
       " WindowsPath('E:/VSCodeProjects/programmers_ml/data/test/0/0002.jpg'),\n",
       " WindowsPath('E:/VSCodeProjects/programmers_ml/data/test/0/0003.jpg'),\n",
       " WindowsPath('E:/VSCodeProjects/programmers_ml/data/test/0/0004.jpg'),\n",
       " WindowsPath('E:/VSCodeProjects/programmers_ml/data/test/0/0005.jpg'),\n",
       " WindowsPath('E:/VSCodeProjects/programmers_ml/data/test/0/0006.jpg'),\n",
       " WindowsPath('E:/VSCodeProjects/programmers_ml/data/test/0/0007.jpg'),\n",
       " WindowsPath('E:/VSCodeProjects/programmers_ml/data/test/0/0008.jpg'),\n",
       " WindowsPath('E:/VSCodeProjects/programmers_ml/data/test/0/0009.jpg'),\n",
       " WindowsPath('E:/VSCodeProjects/programmers_ml/data/test/0/0010.jpg')]"
      ]
     },
     "execution_count": 250,
     "metadata": {},
     "output_type": "execute_result"
    }
   ],
   "source": [
    "test_l = list(test_path.glob(\"*\"))\n",
    "test_l = [p for p in test_l if p.is_file()]\n",
    "test_l[:10]"
   ]
  },
  {
   "cell_type": "code",
   "execution_count": 251,
   "id": "bf78551b-c33d-4f7e-b144-481a9af2317b",
   "metadata": {},
   "outputs": [
    {
     "data": {
      "text/plain": [
       "350"
      ]
     },
     "execution_count": 251,
     "metadata": {},
     "output_type": "execute_result"
    }
   ],
   "source": [
    "len(test_l)"
   ]
  },
  {
   "cell_type": "code",
   "execution_count": 252,
   "id": "9a482639-f316-44b4-a7c5-47753b14b394",
   "metadata": {},
   "outputs": [],
   "source": [
    "train_df = pd.DataFrame()\n",
    "train_df.loc[:, \"cat\"] = [p.parts[-2] for p in train_l]\n",
    "train_df.loc[:, \"filepath\"] = train_l"
   ]
  },
  {
   "cell_type": "code",
   "execution_count": 253,
   "id": "a1facc70-f0d4-421d-b31b-92d3776a94e6",
   "metadata": {},
   "outputs": [],
   "source": [
    "cat_code_d = {\n",
    "    'dog' : 0,\n",
    "    'elephant' : 1,\n",
    "    'giraffe' : 2,\n",
    "    'guitar' : 3,\n",
    "    'horse' : 4,\n",
    "    'house' : 5,\n",
    "    'person' : 6,\n",
    "}"
   ]
  },
  {
   "cell_type": "code",
   "execution_count": 254,
   "id": "c7106e21-6409-41bb-9633-89562b7a9ee0",
   "metadata": {},
   "outputs": [],
   "source": [
    "train_df.loc[:, \"cat_code\"] = train_df.cat.map(cat_code_d)"
   ]
  },
  {
   "cell_type": "code",
   "execution_count": 255,
   "id": "59f28248-4a2a-4563-b3ac-badd87eb2ff7",
   "metadata": {},
   "outputs": [
    {
     "data": {
      "text/html": [
       "<div>\n",
       "<style scoped>\n",
       "    .dataframe tbody tr th:only-of-type {\n",
       "        vertical-align: middle;\n",
       "    }\n",
       "\n",
       "    .dataframe tbody tr th {\n",
       "        vertical-align: top;\n",
       "    }\n",
       "\n",
       "    .dataframe thead th {\n",
       "        text-align: right;\n",
       "    }\n",
       "</style>\n",
       "<table border=\"1\" class=\"dataframe\">\n",
       "  <thead>\n",
       "    <tr style=\"text-align: right;\">\n",
       "      <th></th>\n",
       "      <th>cat</th>\n",
       "      <th>filepath</th>\n",
       "      <th>cat_code</th>\n",
       "    </tr>\n",
       "  </thead>\n",
       "  <tbody>\n",
       "    <tr>\n",
       "      <th>0</th>\n",
       "      <td>dog</td>\n",
       "      <td>E:\\VSCodeProjects\\programmers_ml\\data\\train\\do...</td>\n",
       "      <td>0</td>\n",
       "    </tr>\n",
       "    <tr>\n",
       "      <th>1</th>\n",
       "      <td>dog</td>\n",
       "      <td>E:\\VSCodeProjects\\programmers_ml\\data\\train\\do...</td>\n",
       "      <td>0</td>\n",
       "    </tr>\n",
       "    <tr>\n",
       "      <th>2</th>\n",
       "      <td>dog</td>\n",
       "      <td>E:\\VSCodeProjects\\programmers_ml\\data\\train\\do...</td>\n",
       "      <td>0</td>\n",
       "    </tr>\n",
       "    <tr>\n",
       "      <th>3</th>\n",
       "      <td>dog</td>\n",
       "      <td>E:\\VSCodeProjects\\programmers_ml\\data\\train\\do...</td>\n",
       "      <td>0</td>\n",
       "    </tr>\n",
       "    <tr>\n",
       "      <th>4</th>\n",
       "      <td>dog</td>\n",
       "      <td>E:\\VSCodeProjects\\programmers_ml\\data\\train\\do...</td>\n",
       "      <td>0</td>\n",
       "    </tr>\n",
       "    <tr>\n",
       "      <th>...</th>\n",
       "      <td>...</td>\n",
       "      <td>...</td>\n",
       "      <td>...</td>\n",
       "    </tr>\n",
       "    <tr>\n",
       "      <th>1693</th>\n",
       "      <td>person</td>\n",
       "      <td>E:\\VSCodeProjects\\programmers_ml\\data\\train\\pe...</td>\n",
       "      <td>6</td>\n",
       "    </tr>\n",
       "    <tr>\n",
       "      <th>1694</th>\n",
       "      <td>person</td>\n",
       "      <td>E:\\VSCodeProjects\\programmers_ml\\data\\train\\pe...</td>\n",
       "      <td>6</td>\n",
       "    </tr>\n",
       "    <tr>\n",
       "      <th>1695</th>\n",
       "      <td>person</td>\n",
       "      <td>E:\\VSCodeProjects\\programmers_ml\\data\\train\\pe...</td>\n",
       "      <td>6</td>\n",
       "    </tr>\n",
       "    <tr>\n",
       "      <th>1696</th>\n",
       "      <td>person</td>\n",
       "      <td>E:\\VSCodeProjects\\programmers_ml\\data\\train\\pe...</td>\n",
       "      <td>6</td>\n",
       "    </tr>\n",
       "    <tr>\n",
       "      <th>1697</th>\n",
       "      <td>person</td>\n",
       "      <td>E:\\VSCodeProjects\\programmers_ml\\data\\train\\pe...</td>\n",
       "      <td>6</td>\n",
       "    </tr>\n",
       "  </tbody>\n",
       "</table>\n",
       "<p>1698 rows × 3 columns</p>\n",
       "</div>"
      ],
      "text/plain": [
       "         cat                                           filepath  cat_code\n",
       "0        dog  E:\\VSCodeProjects\\programmers_ml\\data\\train\\do...         0\n",
       "1        dog  E:\\VSCodeProjects\\programmers_ml\\data\\train\\do...         0\n",
       "2        dog  E:\\VSCodeProjects\\programmers_ml\\data\\train\\do...         0\n",
       "3        dog  E:\\VSCodeProjects\\programmers_ml\\data\\train\\do...         0\n",
       "4        dog  E:\\VSCodeProjects\\programmers_ml\\data\\train\\do...         0\n",
       "...      ...                                                ...       ...\n",
       "1693  person  E:\\VSCodeProjects\\programmers_ml\\data\\train\\pe...         6\n",
       "1694  person  E:\\VSCodeProjects\\programmers_ml\\data\\train\\pe...         6\n",
       "1695  person  E:\\VSCodeProjects\\programmers_ml\\data\\train\\pe...         6\n",
       "1696  person  E:\\VSCodeProjects\\programmers_ml\\data\\train\\pe...         6\n",
       "1697  person  E:\\VSCodeProjects\\programmers_ml\\data\\train\\pe...         6\n",
       "\n",
       "[1698 rows x 3 columns]"
      ]
     },
     "execution_count": 255,
     "metadata": {},
     "output_type": "execute_result"
    }
   ],
   "source": [
    "train_df"
   ]
  },
  {
   "cell_type": "code",
   "execution_count": 256,
   "id": "ace2892c-c0d5-43ae-b568-f7d269b62784",
   "metadata": {},
   "outputs": [
    {
     "name": "stderr",
     "output_type": "stream",
     "text": [
      "C:\\Users\\chlje\\anaconda3\\envs\\deeplearning38\\lib\\site-packages\\seaborn\\_decorators.py:36: FutureWarning: Pass the following variable as a keyword arg: x. From version 0.12, the only valid positional argument will be `data`, and passing other arguments without an explicit keyword will result in an error or misinterpretation.\n",
      "  warnings.warn(\n"
     ]
    },
    {
     "data": {
      "text/plain": [
       "<AxesSubplot:xlabel='cat', ylabel='count'>"
      ]
     },
     "execution_count": 256,
     "metadata": {},
     "output_type": "execute_result"
    },
    {
     "data": {
      "image/png": "[encoded data removed]",
      "text/plain": [
       "<Figure size 432x288 with 1 Axes>"
      ]
     },
     "metadata": {
      "needs_background": "light"
     },
     "output_type": "display_data"
    }
   ],
   "source": [
    "sns.countplot(train_df.cat)"
   ]
  },
  {
   "cell_type": "code",
   "execution_count": 257,
   "id": "8589ec6f-b9d2-4f9a-8838-e52ca91cc6cd",
   "metadata": {},
   "outputs": [],
   "source": [
    "train_df.to_pickle(processed_path / \"train_df.pkl\")"
   ]
  },
  {
   "cell_type": "code",
   "execution_count": 258,
   "id": "9d07aa2b-234d-4a32-bac4-bf4a6d54bb7b",
   "metadata": {},
   "outputs": [
    {
     "data": {
      "image/png": "[encoded data removed]",
      "text/plain": [
       "<PIL.JpegImagePlugin.JpegImageFile image mode=RGB size=227x227 at 0x18DAB7F68E0>"
      ]
     },
     "execution_count": 258,
     "metadata": {},
     "output_type": "execute_result"
    }
   ],
   "source": [
    "a = Image.open(train_df.filepath[0])\n",
    "a"
   ]
  },
  {
   "cell_type": "markdown",
   "id": "47c1482b-257b-4e5e-beec-fb57dfee49a0",
   "metadata": {},
   "source": [
    "## 여러 파일들을 눈으로 EDA한 결과:\n",
    "\n",
    "- 색깔이 다채로움\n",
    "    - 흑백으로 바꿔버리는게 나을지도. 모델 입장에서 개가 색깔이 계속 바뀌면 헷갈림.\n",
    "        - 찾아보니 pretrained가 RGB기 때문에 섯불리 첫 cnn layer 가중치 초기화시켜서 갈아끼웠다간 어그러지기 쉬움. \n",
    "        - pretrained weight들을 합쳐서 흑백처럼 만드는 방법이 있긴 함. \n",
    "        - 가진 data를 흑백으로 만드는 것은 transform에서 하므로 어렵지 않음.\n",
    "- 물감때문에 현실보다 색 변화가 불연속적임\n",
    "    - blur 해버려도 좋을 듯. 현실의 명암 반영.\n",
    "        - albumentation해보면 됨. \n",
    "- 그림이 이미 crop된 상태임\n",
    "    - 사실상 1 개의 대상만 있음. train data에 대한 crop은 불필요할 것으로 보임. \n",
    "- 그림마다 화풍이 상이함. \n",
    "    - 섣불리 cut mix했다가 큰일날 것 같음. \n",
    "    - 심각하게 추상화되어 그려진 경우가 많음. 실제보다 과장되게 그려져 그냥 알아보기 힘듦. \n",
    "    - 잘 모르겠으면 그냥 train dataset의 분포대로 찍는 것도 방법일 것 같음. \n",
    "        - 모델이 헷갈리기 쉬우므로 label smoothing loss를 써볼 수 있음. \n",
    "- 데이터 불균형이 있음\n",
    "    - guitar보다 person이 3.5배가량 많음. \n",
    "        - focal loss를 써볼 수 있음. \n",
    "- 데이터가 적음\n",
    "    - augmentation으로 데이터 자체를 늘려줄 필요도 있어보임. "
   ]
  },
  {
   "cell_type": "markdown",
   "id": "7dedd86c-6215-4fe0-a1cd-55b8b3b5a6ba",
   "metadata": {},
   "source": [
    "## 문제 정의\n",
    "\n",
    "심하게 추상화된 그림은 어쩔 수 없다. \n",
    "\n",
    "그나마 실제처럼 그려진 그림을 최대한 사진처럼 transform 하여 사진으로 pretrained 된 모델에 넣어 fine tuning시켜 그림을 분류하자. "
   ]
  },
  {
   "cell_type": "markdown",
   "id": "51b3aeef-635c-464a-bc59-2b9ab547b179",
   "metadata": {},
   "source": [
    "# Dataset & DataLoader"
   ]
  },
  {
   "cell_type": "code",
   "execution_count": 259,
   "id": "15ea9ec7-b49a-4a50-846f-94e7eea2e5fa",
   "metadata": {},
   "outputs": [],
   "source": [
    "class MyDataset(Dataset):\n",
    "    \"\"\"Art Image Dataset\"\"\"\n",
    "    def __init__(self, pkl_path, transform=None, mean=None, std=None, val_ratio=0.2):\n",
    "        super(MyDataset, self).__init__()\n",
    "        self._pkl_path = pkl_path\n",
    "        self._transform = transform\n",
    "        \n",
    "        self.mean = mean\n",
    "        self.std = std\n",
    "\n",
    "        self.val_ratio = val_ratio\n",
    "\n",
    "        self.setup()\n",
    "        self.calc_statistics()\n",
    "    \n",
    "    def setup(self):\n",
    "        self.df = pd.read_pickle(self._pkl_path)\n",
    "        ## Add more code ##\n",
    "\n",
    "    def calc_statistics(self):\n",
    "        has_stats = self.mean is not None and self.std is not None\n",
    "        if not has_stats:\n",
    "            print('Calculating statistics')\n",
    "            \n",
    "            sums = []\n",
    "            squared = []\n",
    "            for img_path in self.df.filepath:\n",
    "                image = np.array(Image.open(img_path)).astype(np.int32)\n",
    "                sums.append(image.mean(axis=(0, 1)))\n",
    "                squared.append((image ** 2).mean(axis=(0, 1)))\n",
    "            \n",
    "            self.mean = np.mean(sums, axis=0) / 255\n",
    "            self.std = (np.mean(squared, axis=0) - self.mean ** 2) ** 0.5 / 255\n",
    "\n",
    "    def __getitem__(self, index):\n",
    "        if torch.is_tensor(index):\n",
    "            index = index.tolist()\n",
    "\n",
    "        row = self.df.iloc[index, :] # Change \":\" to column index if needed. \n",
    "        \n",
    "        ## Add more code ##\n",
    "        cat = row['cat']\n",
    "        cat_code = row['cat_code']\n",
    "        filepath = row['filepath'].as_posix()\n",
    "        img = np.array(Image.open(filepath), dtype=np.float32)\n",
    "\n",
    "        if self._transform:\n",
    "#             img = self._transform(img)\n",
    "            img = self._transform(image=img)['image']\n",
    "            \n",
    "        data = {'cat': cat, 'cat_code': cat_code, 'filepath': filepath, 'image': img}\n",
    "        \n",
    "        return data\n",
    "\n",
    "    def __len__(self):\n",
    "        return len(self.df)\n",
    "    \n",
    "    def split_dataset(self):\n",
    "        n_val = int(len(self) * self.val_ratio)\n",
    "        n_train = len(self) - n_val\n",
    "        train_set, val_set = torch.utils.data.random_split(self, [n_train, n_val])\n",
    "\n",
    "        return train_set, val_set\n",
    "\n",
    "    @staticmethod\n",
    "    def denormalize(image, mean, std):\n",
    "        ## Add more code ##\n",
    "        img_cp = image.copy()\n",
    "        img_cp *= std\n",
    "        img_cp += mean\n",
    "        img_cp *= 255.0\n",
    "        img_cp = np.clip(img_cp, 0, 255).astype(np.uint8)\n",
    "\n",
    "        return img_cp"
   ]
  },
  {
   "cell_type": "code",
   "execution_count": 260,
   "id": "99bd76a3-64eb-4883-bff1-62b4d346b347",
   "metadata": {},
   "outputs": [],
   "source": [
    "class TestDataset(Dataset):\n",
    "    \"\"\"TestDataset\"\"\"\n",
    "    def __init__(self, test_path, transform=None):\n",
    "        super(TestDataset, self).__init__()\n",
    "        self.test_l = list(test_path.glob(\"*\"))\n",
    "        self.test_l = [p for p in self.test_l if p.is_file()]\n",
    "        self._transform = transform\n",
    "        \n",
    "    def __getitem__(self, idx):\n",
    "#         if torch.is_tensor(index):\n",
    "#             index = index.tolist()\n",
    "#             selected_l = [self.text_l[idx] for idx in index]\n",
    "        \n",
    "        selected = self.test_l[idx]\n",
    "        img = np.array(Image.open(selected), dtype=np.float32)\n",
    "        \n",
    "        if self._transform:\n",
    "            img = self._transform(image=img)[\"image\"]\n",
    "        \n",
    "        data = {\"image\": img}\n",
    "        \n",
    "        return data\n",
    "\n",
    "    def __len__(self):\n",
    "        return len(self.test_l)"
   ]
  },
  {
   "cell_type": "code",
   "execution_count": 261,
   "id": "ae212d41-93f9-4ab1-aa6b-e205b236c2f7",
   "metadata": {},
   "outputs": [],
   "source": [
    "## torchvision.transforms \n",
    "\n",
    "# transform = transforms.Compose([\n",
    "#     transform.ToTensor(),\n",
    "# ])"
   ]
  },
  {
   "cell_type": "code",
   "execution_count": 262,
   "id": "a6ffe8a2-560c-44d3-9d97-c979d1cee7be",
   "metadata": {},
   "outputs": [],
   "source": [
    "## albumentations transforms\n",
    "\n",
    "transform = A.Compose([\n",
    "    A.transforms.Blur(),\n",
    "#     A.transforms.ToGray(),\n",
    "#     A.transforms.ToSepia(),\n",
    "    ToTensorV2()\n",
    "])"
   ]
  },
  {
   "cell_type": "code",
   "execution_count": 263,
   "id": "edf2cb21-a182-486c-aee1-7ec9af73b1ad",
   "metadata": {},
   "outputs": [
    {
     "name": "stdout",
     "output_type": "stream",
     "text": [
      "Calculating statistics\n"
     ]
    }
   ],
   "source": [
    "mydataset = MyDataset(\n",
    "    pkl_path=processed_path / \"train_df.pkl\",\n",
    "    transform=transform,\n",
    ")"
   ]
  },
  {
   "cell_type": "code",
   "execution_count": 264,
   "id": "fe3ef5c9-f0a7-4841-8074-635fcb7edf2c",
   "metadata": {},
   "outputs": [
    {
     "data": {
      "text/plain": [
       "array([0.5556861 , 0.50740065, 0.45690217])"
      ]
     },
     "execution_count": 264,
     "metadata": {},
     "output_type": "execute_result"
    }
   ],
   "source": [
    "mydataset.mean"
   ]
  },
  {
   "cell_type": "code",
   "execution_count": 265,
   "id": "efa1949b-e07a-4833-aea2-9cca0732f126",
   "metadata": {},
   "outputs": [
    {
     "data": {
      "text/plain": [
       "array([0.62354242, 0.57679102, 0.54049936])"
      ]
     },
     "execution_count": 265,
     "metadata": {},
     "output_type": "execute_result"
    }
   ],
   "source": [
    "mydataset.std"
   ]
  },
  {
   "cell_type": "code",
   "execution_count": 266,
   "id": "97bfa051-e630-4c91-8f47-d09d2376d427",
   "metadata": {},
   "outputs": [],
   "source": [
    "train_dataset, val_dataset = mydataset.split_dataset()"
   ]
  },
  {
   "cell_type": "code",
   "execution_count": 267,
   "id": "c51b0a28-bbad-4fcb-bcaa-f5a8b4869dc7",
   "metadata": {},
   "outputs": [
    {
     "data": {
      "text/plain": [
       "{'cat': 'dog',\n",
       " 'cat_code': 0,\n",
       " 'filepath': 'E:/VSCodeProjects/programmers_ml/data/train/dog/pic_244.jpg',\n",
       " 'image': tensor([[[ 59.4000,  59.0400,  57.8800,  ..., 188.2800, 188.9200, 189.8000],\n",
       "          [ 59.4000,  59.1600,  58.1200,  ..., 188.6400, 189.2800, 190.2000],\n",
       "          [ 59.4400,  59.3200,  58.5200,  ..., 189.8800, 190.2800, 191.2000],\n",
       "          ...,\n",
       "          [ 47.8400,  47.9600,  48.3200,  ...,  64.2800,  63.8000,  63.6000],\n",
       "          [ 47.6000,  47.7600,  48.1200,  ...,  61.3200,  60.8800,  60.8000],\n",
       "          [ 47.5600,  47.7200,  48.0400,  ...,  60.0000,  59.4800,  59.4000]],\n",
       " \n",
       "         [[ 61.2000,  61.2400,  61.4800,  ...,  34.6000,  35.8000,  36.8000],\n",
       "          [ 61.2000,  61.2800,  61.5200,  ...,  35.0800,  36.2000,  37.2000],\n",
       "          [ 61.2400,  61.4400,  61.8000,  ...,  36.7200,  37.5200,  38.4000],\n",
       "          ...,\n",
       "          [ 47.8400,  47.9600,  48.1200,  ...,  41.8800,  41.1200,  40.4000],\n",
       "          [ 47.6000,  47.7600,  47.9200,  ...,  40.6400,  40.0000,  39.4000],\n",
       "          [ 47.5600,  47.7200,  47.8400,  ...,  40.4000,  39.8800,  39.4000]],\n",
       " \n",
       "         [[ 66.2000,  66.0400,  65.8800,  ...,  61.1600,  64.5200,  67.4000],\n",
       "          [ 66.2000,  66.1200,  66.0000,  ...,  61.4800,  64.6800,  67.4800],\n",
       "          [ 66.2400,  66.2800,  66.3200,  ...,  62.2000,  64.9600,  67.4800],\n",
       "          ...,\n",
       "          [ 49.3600,  49.4800,  50.4000,  ...,  32.4000,  32.3600,  32.4000],\n",
       "          [ 49.3600,  49.5200,  50.3600,  ...,  30.7600,  30.7200,  30.8000],\n",
       "          [ 49.5600,  49.7200,  50.4400,  ...,  30.3600,  30.3200,  30.4000]]])}"
      ]
     },
     "execution_count": 267,
     "metadata": {},
     "output_type": "execute_result"
    }
   ],
   "source": [
    "train_dataset[0]"
   ]
  },
  {
   "cell_type": "code",
   "execution_count": 268,
   "id": "fd92c2a5-40ae-48c8-8d1c-5558bebe74d3",
   "metadata": {},
   "outputs": [
    {
     "data": {
      "text/plain": [
       "<torch.utils.data.dataloader.DataLoader at 0x18e4eafe670>"
      ]
     },
     "execution_count": 268,
     "metadata": {},
     "output_type": "execute_result"
    }
   ],
   "source": [
    "train_loader = DataLoader(\n",
    "    train_dataset,\n",
    "    batch_size=batch_size,\n",
    "#     num_workers=num_workers,\n",
    "    shuffle=shuffle,\n",
    "    pin_memory=pin_memory,\n",
    "    drop_last=drop_last\n",
    ")\n",
    "train_loader"
   ]
  },
  {
   "cell_type": "code",
   "execution_count": 269,
   "id": "8b7fa0ad-4b29-4746-b9cb-3a9a97e3226c",
   "metadata": {},
   "outputs": [
    {
     "data": {
      "text/plain": [
       "<torch.utils.data.dataloader.DataLoader at 0x18e4eafe040>"
      ]
     },
     "execution_count": 269,
     "metadata": {},
     "output_type": "execute_result"
    }
   ],
   "source": [
    "val_loader = DataLoader(\n",
    "    val_dataset,\n",
    "    batch_size=batch_size,\n",
    "#     num_workers=num_workers,\n",
    "    shuffle=shuffle,\n",
    "    pin_memory=pin_memory,\n",
    "    drop_last=drop_last\n",
    ")\n",
    "val_loader"
   ]
  },
  {
   "cell_type": "code",
   "execution_count": 270,
   "id": "19182fb8-93de-4637-b351-fd154e409a53",
   "metadata": {},
   "outputs": [],
   "source": [
    "test_dataset = TestDataset(\n",
    "    test_path=test_path,\n",
    "    transform=transform\n",
    ")"
   ]
  },
  {
   "cell_type": "code",
   "execution_count": 271,
   "id": "4ad2b060-1644-4041-b89b-6cbf8ecdc690",
   "metadata": {},
   "outputs": [
    {
     "data": {
      "text/plain": [
       "{'image': tensor([[[ 58.,  57.,  67.,  ...,  39.,  56.,  53.],\n",
       "          [ 49.,  50.,  56.,  ...,  45.,  44.,  28.],\n",
       "          [ 43.,  49.,  51.,  ...,  51.,  43.,  37.],\n",
       "          ...,\n",
       "          [ 27.,  30.,  27.,  ..., 100.,  88.,  81.],\n",
       "          [ 20.,  40.,  40.,  ..., 118.,  95.,  78.],\n",
       "          [ 21.,  27.,  23.,  ..., 149., 119.,  92.]],\n",
       " \n",
       "         [[116., 115., 125.,  ...,  74.,  93.,  90.],\n",
       "          [104., 105., 111.,  ...,  80.,  79.,  64.],\n",
       "          [ 98., 102., 104.,  ...,  83.,  78.,  71.],\n",
       "          ...,\n",
       "          [ 40.,  46.,  44.,  ...,  53.,  60.,  77.],\n",
       "          [ 36.,  56.,  57.,  ...,  69.,  67.,  74.],\n",
       "          [ 38.,  44.,  43.,  ...,  97.,  88.,  87.]],\n",
       " \n",
       "         [[118., 117., 127.,  ...,  68.,  86.,  83.],\n",
       "          [107., 108., 114.,  ...,  74.,  73.,  60.],\n",
       "          [101., 106., 108.,  ...,  80.,  74.,  70.],\n",
       "          ...,\n",
       "          [ 31.,  36.,  34.,  ...,  37.,  38.,  48.],\n",
       "          [ 26.,  46.,  47.,  ...,  54.,  45.,  45.],\n",
       "          [ 28.,  34.,  32.,  ...,  83.,  67.,  58.]]])}"
      ]
     },
     "execution_count": 271,
     "metadata": {},
     "output_type": "execute_result"
    }
   ],
   "source": [
    "test_dataset[0]"
   ]
  },
  {
   "cell_type": "code",
   "execution_count": 272,
   "id": "b1d505ac-fb74-4b08-a167-2672f1edfc77",
   "metadata": {},
   "outputs": [
    {
     "data": {
      "text/plain": [
       "<torch.utils.data.dataloader.DataLoader at 0x18e4eafe460>"
      ]
     },
     "execution_count": 272,
     "metadata": {},
     "output_type": "execute_result"
    }
   ],
   "source": [
    "test_loader = DataLoader(\n",
    "    test_dataset,\n",
    "    batch_size=batch_size,\n",
    "    shuffle=False,\n",
    "    pin_memory=pin_memory,\n",
    "    drop_last=False,\n",
    ")\n",
    "\n",
    "test_loader"
   ]
  },
  {
   "cell_type": "markdown",
   "id": "3852f730-4753-4cf0-b124-cd2115c1280c",
   "metadata": {},
   "source": [
    "# Model"
   ]
  },
  {
   "cell_type": "markdown",
   "id": "4df006f4-24b2-4533-b26a-4129672772db",
   "metadata": {},
   "source": [
    "주어진 데이터가 적기 때문에 무조건 pretrained model을 써서 transfer learning을 시켜야 한다. \n",
    "\n",
    "내 로컬 pc에서 gpu로 돌릴 것이기 때문에 너무 무거운 모델은 안된다. \n",
    "\n",
    "--> pretrained efficientnet 선택 "
   ]
  },
  {
   "cell_type": "code",
   "execution_count": 273,
   "id": "dd94d24a-7f4b-4731-8729-deed10312075",
   "metadata": {},
   "outputs": [
    {
     "data": {
      "text/plain": [
       "['efficientnet_b0',\n",
       " 'efficientnet_b1',\n",
       " 'efficientnet_b1_pruned',\n",
       " 'efficientnet_b2',\n",
       " 'efficientnet_b2_pruned',\n",
       " 'efficientnet_b2a',\n",
       " 'efficientnet_b3',\n",
       " 'efficientnet_b3_pruned',\n",
       " 'efficientnet_b3a',\n",
       " 'efficientnet_b4',\n",
       " 'efficientnet_b5',\n",
       " 'efficientnet_b6',\n",
       " 'efficientnet_b7',\n",
       " 'efficientnet_b8',\n",
       " 'efficientnet_cc_b0_4e',\n",
       " 'efficientnet_cc_b0_8e',\n",
       " 'efficientnet_cc_b1_8e',\n",
       " 'efficientnet_el',\n",
       " 'efficientnet_el_pruned',\n",
       " 'efficientnet_em',\n",
       " 'efficientnet_es',\n",
       " 'efficientnet_es_pruned',\n",
       " 'efficientnet_l2',\n",
       " 'efficientnet_lite0',\n",
       " 'efficientnet_lite1',\n",
       " 'efficientnet_lite2',\n",
       " 'efficientnet_lite3',\n",
       " 'efficientnet_lite4',\n",
       " 'efficientnetv2_l',\n",
       " 'efficientnetv2_m',\n",
       " 'efficientnetv2_rw_s',\n",
       " 'efficientnetv2_s']"
      ]
     },
     "execution_count": 273,
     "metadata": {},
     "output_type": "execute_result"
    }
   ],
   "source": [
    "timm_models_l = timm.list_models()\n",
    "[x for x in timm_models_l if \"tf\" not in x and \"efficient\" in x]"
   ]
  },
  {
   "cell_type": "code",
   "execution_count": 274,
   "id": "2b55b8db-029c-4d5b-a2cb-a362f53d266c",
   "metadata": {},
   "outputs": [],
   "source": [
    "# model_name = 'efficientnet_b4' # 느리고 성능 안좋음. \n",
    "model_name = 'efficientnet_b3_pruned'"
   ]
  },
  {
   "cell_type": "code",
   "execution_count": 300,
   "id": "e48d4bed-8795-4351-b8fd-7d15b13d501b",
   "metadata": {
    "scrolled": true,
    "tags": []
   },
   "outputs": [
    {
     "data": {
      "text/plain": [
       "EfficientNet(\n",
       "  (conv_stem): Conv2dSame(3, 40, kernel_size=(3, 3), stride=(2, 2), bias=False)\n",
       "  (bn1): BatchNorm2d(40, eps=0.001, momentum=0.1, affine=True, track_running_stats=True)\n",
       "  (act1): SiLU(inplace=True)\n",
       "  (blocks): Sequential(\n",
       "    (0): Sequential(\n",
       "      (0): DepthwiseSeparableConv(\n",
       "        (conv_dw): Conv2d(40, 40, kernel_size=(3, 3), stride=(1, 1), padding=(1, 1), groups=40, bias=False)\n",
       "        (bn1): BatchNorm2d(40, eps=0.001, momentum=0.1, affine=True, track_running_stats=True)\n",
       "        (act1): SiLU(inplace=True)\n",
       "        (se): SqueezeExcite(\n",
       "          (conv_reduce): Conv2d(40, 10, kernel_size=(1, 1), stride=(1, 1))\n",
       "          (act1): SiLU(inplace=True)\n",
       "          (conv_expand): Conv2d(10, 40, kernel_size=(1, 1), stride=(1, 1))\n",
       "        )\n",
       "        (conv_pw): Conv2d(40, 24, kernel_size=(1, 1), stride=(1, 1), bias=False)\n",
       "        (bn2): BatchNorm2d(24, eps=0.001, momentum=0.1, affine=True, track_running_stats=True)\n",
       "        (act2): Identity()\n",
       "      )\n",
       "      (1): DepthwiseSeparableConv(\n",
       "        (conv_dw): Conv2d(24, 24, kernel_size=(3, 3), stride=(1, 1), padding=(1, 1), groups=24, bias=False)\n",
       "        (bn1): BatchNorm2d(24, eps=0.001, momentum=0.1, affine=True, track_running_stats=True)\n",
       "        (act1): SiLU(inplace=True)\n",
       "        (se): SqueezeExcite(\n",
       "          (conv_reduce): Conv2d(24, 6, kernel_size=(1, 1), stride=(1, 1))\n",
       "          (act1): SiLU(inplace=True)\n",
       "          (conv_expand): Conv2d(6, 24, kernel_size=(1, 1), stride=(1, 1))\n",
       "        )\n",
       "        (conv_pw): Conv2d(24, 24, kernel_size=(1, 1), stride=(1, 1), bias=False)\n",
       "        (bn2): BatchNorm2d(24, eps=0.001, momentum=0.1, affine=True, track_running_stats=True)\n",
       "        (act2): Identity()\n",
       "      )\n",
       "    )\n",
       "    (1): Sequential(\n",
       "      (0): InvertedResidual(\n",
       "        (conv_pw): Conv2d(24, 27, kernel_size=(1, 1), stride=(1, 1), bias=False)\n",
       "        (bn1): BatchNorm2d(27, eps=0.001, momentum=0.1, affine=True, track_running_stats=True)\n",
       "        (act1): SiLU(inplace=True)\n",
       "        (conv_dw): Conv2dSame(27, 27, kernel_size=(3, 3), stride=(2, 2), groups=27, bias=False)\n",
       "        (bn2): BatchNorm2d(27, eps=0.001, momentum=0.1, affine=True, track_running_stats=True)\n",
       "        (act2): SiLU(inplace=True)\n",
       "        (se): SqueezeExcite(\n",
       "          (conv_reduce): Conv2d(27, 6, kernel_size=(1, 1), stride=(1, 1))\n",
       "          (act1): SiLU(inplace=True)\n",
       "          (conv_expand): Conv2d(6, 27, kernel_size=(1, 1), stride=(1, 1))\n",
       "        )\n",
       "        (conv_pwl): Conv2d(27, 12, kernel_size=(1, 1), stride=(1, 1), bias=False)\n",
       "        (bn3): BatchNorm2d(12, eps=0.001, momentum=0.1, affine=True, track_running_stats=True)\n",
       "      )\n",
       "      (1): InvertedResidual(\n",
       "        (conv_pw): Conv2d(12, 49, kernel_size=(1, 1), stride=(1, 1), bias=False)\n",
       "        (bn1): BatchNorm2d(49, eps=0.001, momentum=0.1, affine=True, track_running_stats=True)\n",
       "        (act1): SiLU(inplace=True)\n",
       "        (conv_dw): Conv2d(49, 49, kernel_size=(3, 3), stride=(1, 1), padding=(1, 1), groups=49, bias=False)\n",
       "        (bn2): BatchNorm2d(49, eps=0.001, momentum=0.1, affine=True, track_running_stats=True)\n",
       "        (act2): SiLU(inplace=True)\n",
       "        (se): SqueezeExcite(\n",
       "          (conv_reduce): Conv2d(49, 8, kernel_size=(1, 1), stride=(1, 1))\n",
       "          (act1): SiLU(inplace=True)\n",
       "          (conv_expand): Conv2d(8, 49, kernel_size=(1, 1), stride=(1, 1))\n",
       "        )\n",
       "        (conv_pwl): Conv2d(49, 12, kernel_size=(1, 1), stride=(1, 1), bias=False)\n",
       "        (bn3): BatchNorm2d(12, eps=0.001, momentum=0.1, affine=True, track_running_stats=True)\n",
       "      )\n",
       "      (2): InvertedResidual(\n",
       "        (conv_pw): Conv2d(12, 48, kernel_size=(1, 1), stride=(1, 1), bias=False)\n",
       "        (bn1): BatchNorm2d(48, eps=0.001, momentum=0.1, affine=True, track_running_stats=True)\n",
       "        (act1): SiLU(inplace=True)\n",
       "        (conv_dw): Conv2d(48, 48, kernel_size=(3, 3), stride=(1, 1), padding=(1, 1), groups=48, bias=False)\n",
       "        (bn2): BatchNorm2d(48, eps=0.001, momentum=0.1, affine=True, track_running_stats=True)\n",
       "        (act2): SiLU(inplace=True)\n",
       "        (se): SqueezeExcite(\n",
       "          (conv_reduce): Conv2d(48, 8, kernel_size=(1, 1), stride=(1, 1))\n",
       "          (act1): SiLU(inplace=True)\n",
       "          (conv_expand): Conv2d(8, 48, kernel_size=(1, 1), stride=(1, 1))\n",
       "        )\n",
       "        (conv_pwl): Conv2d(48, 12, kernel_size=(1, 1), stride=(1, 1), bias=False)\n",
       "        (bn3): BatchNorm2d(12, eps=0.001, momentum=0.1, affine=True, track_running_stats=True)\n",
       "      )\n",
       "    )\n",
       "    (2): Sequential(\n",
       "      (0): InvertedResidual(\n",
       "        (conv_pw): Conv2d(12, 83, kernel_size=(1, 1), stride=(1, 1), bias=False)\n",
       "        (bn1): BatchNorm2d(83, eps=0.001, momentum=0.1, affine=True, track_running_stats=True)\n",
       "        (act1): SiLU(inplace=True)\n",
       "        (conv_dw): Conv2dSame(83, 83, kernel_size=(5, 5), stride=(2, 2), groups=83, bias=False)\n",
       "        (bn2): BatchNorm2d(83, eps=0.001, momentum=0.1, affine=True, track_running_stats=True)\n",
       "        (act2): SiLU(inplace=True)\n",
       "        (se): SqueezeExcite(\n",
       "          (conv_reduce): Conv2d(83, 8, kernel_size=(1, 1), stride=(1, 1))\n",
       "          (act1): SiLU(inplace=True)\n",
       "          (conv_expand): Conv2d(8, 83, kernel_size=(1, 1), stride=(1, 1))\n",
       "        )\n",
       "        (conv_pwl): Conv2d(83, 40, kernel_size=(1, 1), stride=(1, 1), bias=False)\n",
       "        (bn3): BatchNorm2d(40, eps=0.001, momentum=0.1, affine=True, track_running_stats=True)\n",
       "      )\n",
       "      (1): InvertedResidual(\n",
       "        (conv_pw): Conv2d(40, 90, kernel_size=(1, 1), stride=(1, 1), bias=False)\n",
       "        (bn1): BatchNorm2d(90, eps=0.001, momentum=0.1, affine=True, track_running_stats=True)\n",
       "        (act1): SiLU(inplace=True)\n",
       "        (conv_dw): Conv2d(90, 90, kernel_size=(5, 5), stride=(1, 1), padding=(2, 2), groups=90, bias=False)\n",
       "        (bn2): BatchNorm2d(90, eps=0.001, momentum=0.1, affine=True, track_running_stats=True)\n",
       "        (act2): SiLU(inplace=True)\n",
       "        (se): SqueezeExcite(\n",
       "          (conv_reduce): Conv2d(90, 12, kernel_size=(1, 1), stride=(1, 1))\n",
       "          (act1): SiLU(inplace=True)\n",
       "          (conv_expand): Conv2d(12, 90, kernel_size=(1, 1), stride=(1, 1))\n",
       "        )\n",
       "        (conv_pwl): Conv2d(90, 40, kernel_size=(1, 1), stride=(1, 1), bias=False)\n",
       "        (bn3): BatchNorm2d(40, eps=0.001, momentum=0.1, affine=True, track_running_stats=True)\n",
       "      )\n",
       "      (2): InvertedResidual(\n",
       "        (conv_pw): Conv2d(40, 85, kernel_size=(1, 1), stride=(1, 1), bias=False)\n",
       "        (bn1): BatchNorm2d(85, eps=0.001, momentum=0.1, affine=True, track_running_stats=True)\n",
       "        (act1): SiLU(inplace=True)\n",
       "        (conv_dw): Conv2d(85, 85, kernel_size=(5, 5), stride=(1, 1), padding=(2, 2), groups=85, bias=False)\n",
       "        (bn2): BatchNorm2d(85, eps=0.001, momentum=0.1, affine=True, track_running_stats=True)\n",
       "        (act2): SiLU(inplace=True)\n",
       "        (se): SqueezeExcite(\n",
       "          (conv_reduce): Conv2d(85, 12, kernel_size=(1, 1), stride=(1, 1))\n",
       "          (act1): SiLU(inplace=True)\n",
       "          (conv_expand): Conv2d(12, 85, kernel_size=(1, 1), stride=(1, 1))\n",
       "        )\n",
       "        (conv_pwl): Conv2d(85, 40, kernel_size=(1, 1), stride=(1, 1), bias=False)\n",
       "        (bn3): BatchNorm2d(40, eps=0.001, momentum=0.1, affine=True, track_running_stats=True)\n",
       "      )\n",
       "    )\n",
       "    (3): Sequential(\n",
       "      (0): InvertedResidual(\n",
       "        (conv_pw): Conv2d(40, 215, kernel_size=(1, 1), stride=(1, 1), bias=False)\n",
       "        (bn1): BatchNorm2d(215, eps=0.001, momentum=0.1, affine=True, track_running_stats=True)\n",
       "        (act1): SiLU(inplace=True)\n",
       "        (conv_dw): Conv2dSame(215, 215, kernel_size=(3, 3), stride=(2, 2), groups=215, bias=False)\n",
       "        (bn2): BatchNorm2d(215, eps=0.001, momentum=0.1, affine=True, track_running_stats=True)\n",
       "        (act2): SiLU(inplace=True)\n",
       "        (se): SqueezeExcite(\n",
       "          (conv_reduce): Conv2d(215, 12, kernel_size=(1, 1), stride=(1, 1))\n",
       "          (act1): SiLU(inplace=True)\n",
       "          (conv_expand): Conv2d(12, 215, kernel_size=(1, 1), stride=(1, 1))\n",
       "        )\n",
       "        (conv_pwl): Conv2d(215, 93, kernel_size=(1, 1), stride=(1, 1), bias=False)\n",
       "        (bn3): BatchNorm2d(93, eps=0.001, momentum=0.1, affine=True, track_running_stats=True)\n",
       "      )\n",
       "      (1): InvertedResidual(\n",
       "        (conv_pw): Conv2d(93, 261, kernel_size=(1, 1), stride=(1, 1), bias=False)\n",
       "        (bn1): BatchNorm2d(261, eps=0.001, momentum=0.1, affine=True, track_running_stats=True)\n",
       "        (act1): SiLU(inplace=True)\n",
       "        (conv_dw): Conv2d(261, 261, kernel_size=(3, 3), stride=(1, 1), padding=(1, 1), groups=261, bias=False)\n",
       "        (bn2): BatchNorm2d(261, eps=0.001, momentum=0.1, affine=True, track_running_stats=True)\n",
       "        (act2): SiLU(inplace=True)\n",
       "        (se): SqueezeExcite(\n",
       "          (conv_reduce): Conv2d(261, 24, kernel_size=(1, 1), stride=(1, 1))\n",
       "          (act1): SiLU(inplace=True)\n",
       "          (conv_expand): Conv2d(24, 261, kernel_size=(1, 1), stride=(1, 1))\n",
       "        )\n",
       "        (conv_pwl): Conv2d(261, 93, kernel_size=(1, 1), stride=(1, 1), bias=False)\n",
       "        (bn3): BatchNorm2d(93, eps=0.001, momentum=0.1, affine=True, track_running_stats=True)\n",
       "      )\n",
       "      (2): InvertedResidual(\n",
       "        (conv_pw): Conv2d(93, 219, kernel_size=(1, 1), stride=(1, 1), bias=False)\n",
       "        (bn1): BatchNorm2d(219, eps=0.001, momentum=0.1, affine=True, track_running_stats=True)\n",
       "        (act1): SiLU(inplace=True)\n",
       "        (conv_dw): Conv2d(219, 219, kernel_size=(3, 3), stride=(1, 1), padding=(1, 1), groups=219, bias=False)\n",
       "        (bn2): BatchNorm2d(219, eps=0.001, momentum=0.1, affine=True, track_running_stats=True)\n",
       "        (act2): SiLU(inplace=True)\n",
       "        (se): SqueezeExcite(\n",
       "          (conv_reduce): Conv2d(219, 24, kernel_size=(1, 1), stride=(1, 1))\n",
       "          (act1): SiLU(inplace=True)\n",
       "          (conv_expand): Conv2d(24, 219, kernel_size=(1, 1), stride=(1, 1))\n",
       "        )\n",
       "        (conv_pwl): Conv2d(219, 93, kernel_size=(1, 1), stride=(1, 1), bias=False)\n",
       "        (bn3): BatchNorm2d(93, eps=0.001, momentum=0.1, affine=True, track_running_stats=True)\n",
       "      )\n",
       "      (3): InvertedResidual(\n",
       "        (conv_pw): Conv2d(93, 254, kernel_size=(1, 1), stride=(1, 1), bias=False)\n",
       "        (bn1): BatchNorm2d(254, eps=0.001, momentum=0.1, affine=True, track_running_stats=True)\n",
       "        (act1): SiLU(inplace=True)\n",
       "        (conv_dw): Conv2d(254, 254, kernel_size=(3, 3), stride=(1, 1), padding=(1, 1), groups=254, bias=False)\n",
       "        (bn2): BatchNorm2d(254, eps=0.001, momentum=0.1, affine=True, track_running_stats=True)\n",
       "        (act2): SiLU(inplace=True)\n",
       "        (se): SqueezeExcite(\n",
       "          (conv_reduce): Conv2d(254, 24, kernel_size=(1, 1), stride=(1, 1))\n",
       "          (act1): SiLU(inplace=True)\n",
       "          (conv_expand): Conv2d(24, 254, kernel_size=(1, 1), stride=(1, 1))\n",
       "        )\n",
       "        (conv_pwl): Conv2d(254, 93, kernel_size=(1, 1), stride=(1, 1), bias=False)\n",
       "        (bn3): BatchNorm2d(93, eps=0.001, momentum=0.1, affine=True, track_running_stats=True)\n",
       "      )\n",
       "      (4): InvertedResidual(\n",
       "        (conv_pw): Conv2d(93, 236, kernel_size=(1, 1), stride=(1, 1), bias=False)\n",
       "        (bn1): BatchNorm2d(236, eps=0.001, momentum=0.1, affine=True, track_running_stats=True)\n",
       "        (act1): SiLU(inplace=True)\n",
       "        (conv_dw): Conv2d(236, 236, kernel_size=(3, 3), stride=(1, 1), padding=(1, 1), groups=236, bias=False)\n",
       "        (bn2): BatchNorm2d(236, eps=0.001, momentum=0.1, affine=True, track_running_stats=True)\n",
       "        (act2): SiLU(inplace=True)\n",
       "        (se): SqueezeExcite(\n",
       "          (conv_reduce): Conv2d(236, 24, kernel_size=(1, 1), stride=(1, 1))\n",
       "          (act1): SiLU(inplace=True)\n",
       "          (conv_expand): Conv2d(24, 236, kernel_size=(1, 1), stride=(1, 1))\n",
       "        )\n",
       "        (conv_pwl): Conv2d(236, 93, kernel_size=(1, 1), stride=(1, 1), bias=False)\n",
       "        (bn3): BatchNorm2d(93, eps=0.001, momentum=0.1, affine=True, track_running_stats=True)\n",
       "      )\n",
       "    )\n",
       "    (4): Sequential(\n",
       "      (0): InvertedResidual(\n",
       "        (conv_pw): Conv2d(93, 480, kernel_size=(1, 1), stride=(1, 1), bias=False)\n",
       "        (bn1): BatchNorm2d(480, eps=0.001, momentum=0.1, affine=True, track_running_stats=True)\n",
       "        (act1): SiLU(inplace=True)\n",
       "        (conv_dw): Conv2d(480, 480, kernel_size=(5, 5), stride=(1, 1), padding=(2, 2), groups=480, bias=False)\n",
       "        (bn2): BatchNorm2d(480, eps=0.001, momentum=0.1, affine=True, track_running_stats=True)\n",
       "        (act2): SiLU(inplace=True)\n",
       "        (se): SqueezeExcite(\n",
       "          (conv_reduce): Conv2d(480, 24, kernel_size=(1, 1), stride=(1, 1))\n",
       "          (act1): SiLU(inplace=True)\n",
       "          (conv_expand): Conv2d(24, 480, kernel_size=(1, 1), stride=(1, 1))\n",
       "        )\n",
       "        (conv_pwl): Conv2d(480, 120, kernel_size=(1, 1), stride=(1, 1), bias=False)\n",
       "        (bn3): BatchNorm2d(120, eps=0.001, momentum=0.1, affine=True, track_running_stats=True)\n",
       "      )\n",
       "      (1): InvertedResidual(\n",
       "        (conv_pw): Conv2d(120, 235, kernel_size=(1, 1), stride=(1, 1), bias=False)\n",
       "        (bn1): BatchNorm2d(235, eps=0.001, momentum=0.1, affine=True, track_running_stats=True)\n",
       "        (act1): SiLU(inplace=True)\n",
       "        (conv_dw): Conv2d(235, 235, kernel_size=(5, 5), stride=(1, 1), padding=(2, 2), groups=235, bias=False)\n",
       "        (bn2): BatchNorm2d(235, eps=0.001, momentum=0.1, affine=True, track_running_stats=True)\n",
       "        (act2): SiLU(inplace=True)\n",
       "        (se): SqueezeExcite(\n",
       "          (conv_reduce): Conv2d(235, 34, kernel_size=(1, 1), stride=(1, 1))\n",
       "          (act1): SiLU(inplace=True)\n",
       "          (conv_expand): Conv2d(34, 235, kernel_size=(1, 1), stride=(1, 1))\n",
       "        )\n",
       "        (conv_pwl): Conv2d(235, 120, kernel_size=(1, 1), stride=(1, 1), bias=False)\n",
       "        (bn3): BatchNorm2d(120, eps=0.001, momentum=0.1, affine=True, track_running_stats=True)\n",
       "      )\n",
       "      (2): InvertedResidual(\n",
       "        (conv_pw): Conv2d(120, 217, kernel_size=(1, 1), stride=(1, 1), bias=False)\n",
       "        (bn1): BatchNorm2d(217, eps=0.001, momentum=0.1, affine=True, track_running_stats=True)\n",
       "        (act1): SiLU(inplace=True)\n",
       "        (conv_dw): Conv2d(217, 217, kernel_size=(5, 5), stride=(1, 1), padding=(2, 2), groups=217, bias=False)\n",
       "        (bn2): BatchNorm2d(217, eps=0.001, momentum=0.1, affine=True, track_running_stats=True)\n",
       "        (act2): SiLU(inplace=True)\n",
       "        (se): SqueezeExcite(\n",
       "          (conv_reduce): Conv2d(217, 34, kernel_size=(1, 1), stride=(1, 1))\n",
       "          (act1): SiLU(inplace=True)\n",
       "          (conv_expand): Conv2d(34, 217, kernel_size=(1, 1), stride=(1, 1))\n",
       "        )\n",
       "        (conv_pwl): Conv2d(217, 120, kernel_size=(1, 1), stride=(1, 1), bias=False)\n",
       "        (bn3): BatchNorm2d(120, eps=0.001, momentum=0.1, affine=True, track_running_stats=True)\n",
       "      )\n",
       "      (3): InvertedResidual(\n",
       "        (conv_pw): Conv2d(120, 226, kernel_size=(1, 1), stride=(1, 1), bias=False)\n",
       "        (bn1): BatchNorm2d(226, eps=0.001, momentum=0.1, affine=True, track_running_stats=True)\n",
       "        (act1): SiLU(inplace=True)\n",
       "        (conv_dw): Conv2d(226, 226, kernel_size=(5, 5), stride=(1, 1), padding=(2, 2), groups=226, bias=False)\n",
       "        (bn2): BatchNorm2d(226, eps=0.001, momentum=0.1, affine=True, track_running_stats=True)\n",
       "        (act2): SiLU(inplace=True)\n",
       "        (se): SqueezeExcite(\n",
       "          (conv_reduce): Conv2d(226, 33, kernel_size=(1, 1), stride=(1, 1))\n",
       "          (act1): SiLU(inplace=True)\n",
       "          (conv_expand): Conv2d(33, 226, kernel_size=(1, 1), stride=(1, 1))\n",
       "        )\n",
       "        (conv_pwl): Conv2d(226, 120, kernel_size=(1, 1), stride=(1, 1), bias=False)\n",
       "        (bn3): BatchNorm2d(120, eps=0.001, momentum=0.1, affine=True, track_running_stats=True)\n",
       "      )\n",
       "      (4): InvertedResidual(\n",
       "        (conv_pw): Conv2d(120, 340, kernel_size=(1, 1), stride=(1, 1), bias=False)\n",
       "        (bn1): BatchNorm2d(340, eps=0.001, momentum=0.1, affine=True, track_running_stats=True)\n",
       "        (act1): SiLU(inplace=True)\n",
       "        (conv_dw): Conv2d(340, 340, kernel_size=(5, 5), stride=(1, 1), padding=(2, 2), groups=340, bias=False)\n",
       "        (bn2): BatchNorm2d(340, eps=0.001, momentum=0.1, affine=True, track_running_stats=True)\n",
       "        (act2): SiLU(inplace=True)\n",
       "        (se): SqueezeExcite(\n",
       "          (conv_reduce): Conv2d(340, 34, kernel_size=(1, 1), stride=(1, 1))\n",
       "          (act1): SiLU(inplace=True)\n",
       "          (conv_expand): Conv2d(34, 340, kernel_size=(1, 1), stride=(1, 1))\n",
       "        )\n",
       "        (conv_pwl): Conv2d(340, 120, kernel_size=(1, 1), stride=(1, 1), bias=False)\n",
       "        (bn3): BatchNorm2d(120, eps=0.001, momentum=0.1, affine=True, track_running_stats=True)\n",
       "      )\n",
       "    )\n",
       "    (5): Sequential(\n",
       "      (0): InvertedResidual(\n",
       "        (conv_pw): Conv2d(120, 802, kernel_size=(1, 1), stride=(1, 1), bias=False)\n",
       "        (bn1): BatchNorm2d(802, eps=0.001, momentum=0.1, affine=True, track_running_stats=True)\n",
       "        (act1): SiLU(inplace=True)\n",
       "        (conv_dw): Conv2dSame(802, 802, kernel_size=(5, 5), stride=(2, 2), groups=802, bias=False)\n",
       "        (bn2): BatchNorm2d(802, eps=0.001, momentum=0.1, affine=True, track_running_stats=True)\n",
       "        (act2): SiLU(inplace=True)\n",
       "        (se): SqueezeExcite(\n",
       "          (conv_reduce): Conv2d(802, 34, kernel_size=(1, 1), stride=(1, 1))\n",
       "          (act1): SiLU(inplace=True)\n",
       "          (conv_expand): Conv2d(34, 802, kernel_size=(1, 1), stride=(1, 1))\n",
       "        )\n",
       "        (conv_pwl): Conv2d(802, 232, kernel_size=(1, 1), stride=(1, 1), bias=False)\n",
       "        (bn3): BatchNorm2d(232, eps=0.001, momentum=0.1, affine=True, track_running_stats=True)\n",
       "      )\n",
       "      (1): InvertedResidual(\n",
       "        (conv_pw): Conv2d(232, 1030, kernel_size=(1, 1), stride=(1, 1), bias=False)\n",
       "        (bn1): BatchNorm2d(1030, eps=0.001, momentum=0.1, affine=True, track_running_stats=True)\n",
       "        (act1): SiLU(inplace=True)\n",
       "        (conv_dw): Conv2d(1030, 1030, kernel_size=(5, 5), stride=(1, 1), padding=(2, 2), groups=1030, bias=False)\n",
       "        (bn2): BatchNorm2d(1030, eps=0.001, momentum=0.1, affine=True, track_running_stats=True)\n",
       "        (act2): SiLU(inplace=True)\n",
       "        (se): SqueezeExcite(\n",
       "          (conv_reduce): Conv2d(1030, 58, kernel_size=(1, 1), stride=(1, 1))\n",
       "          (act1): SiLU(inplace=True)\n",
       "          (conv_expand): Conv2d(58, 1030, kernel_size=(1, 1), stride=(1, 1))\n",
       "        )\n",
       "        (conv_pwl): Conv2d(1030, 232, kernel_size=(1, 1), stride=(1, 1), bias=False)\n",
       "        (bn3): BatchNorm2d(232, eps=0.001, momentum=0.1, affine=True, track_running_stats=True)\n",
       "      )\n",
       "      (2): InvertedResidual(\n",
       "        (conv_pw): Conv2d(232, 924, kernel_size=(1, 1), stride=(1, 1), bias=False)\n",
       "        (bn1): BatchNorm2d(924, eps=0.001, momentum=0.1, affine=True, track_running_stats=True)\n",
       "        (act1): SiLU(inplace=True)\n",
       "        (conv_dw): Conv2d(924, 924, kernel_size=(5, 5), stride=(1, 1), padding=(2, 2), groups=924, bias=False)\n",
       "        (bn2): BatchNorm2d(924, eps=0.001, momentum=0.1, affine=True, track_running_stats=True)\n",
       "        (act2): SiLU(inplace=True)\n",
       "        (se): SqueezeExcite(\n",
       "          (conv_reduce): Conv2d(924, 58, kernel_size=(1, 1), stride=(1, 1))\n",
       "          (act1): SiLU(inplace=True)\n",
       "          (conv_expand): Conv2d(58, 924, kernel_size=(1, 1), stride=(1, 1))\n",
       "        )\n",
       "        (conv_pwl): Conv2d(924, 232, kernel_size=(1, 1), stride=(1, 1), bias=False)\n",
       "        (bn3): BatchNorm2d(232, eps=0.001, momentum=0.1, affine=True, track_running_stats=True)\n",
       "      )\n",
       "      (3): InvertedResidual(\n",
       "        (conv_pw): Conv2d(232, 1016, kernel_size=(1, 1), stride=(1, 1), bias=False)\n",
       "        (bn1): BatchNorm2d(1016, eps=0.001, momentum=0.1, affine=True, track_running_stats=True)\n",
       "        (act1): SiLU(inplace=True)\n",
       "        (conv_dw): Conv2d(1016, 1016, kernel_size=(5, 5), stride=(1, 1), padding=(2, 2), groups=1016, bias=False)\n",
       "        (bn2): BatchNorm2d(1016, eps=0.001, momentum=0.1, affine=True, track_running_stats=True)\n",
       "        (act2): SiLU(inplace=True)\n",
       "        (se): SqueezeExcite(\n",
       "          (conv_reduce): Conv2d(1016, 58, kernel_size=(1, 1), stride=(1, 1))\n",
       "          (act1): SiLU(inplace=True)\n",
       "          (conv_expand): Conv2d(58, 1016, kernel_size=(1, 1), stride=(1, 1))\n",
       "        )\n",
       "        (conv_pwl): Conv2d(1016, 232, kernel_size=(1, 1), stride=(1, 1), bias=False)\n",
       "        (bn3): BatchNorm2d(232, eps=0.001, momentum=0.1, affine=True, track_running_stats=True)\n",
       "      )\n",
       "      (4): InvertedResidual(\n",
       "        (conv_pw): Conv2d(232, 1130, kernel_size=(1, 1), stride=(1, 1), bias=False)\n",
       "        (bn1): BatchNorm2d(1130, eps=0.001, momentum=0.1, affine=True, track_running_stats=True)\n",
       "        (act1): SiLU(inplace=True)\n",
       "        (conv_dw): Conv2d(1130, 1130, kernel_size=(5, 5), stride=(1, 1), padding=(2, 2), groups=1130, bias=False)\n",
       "        (bn2): BatchNorm2d(1130, eps=0.001, momentum=0.1, affine=True, track_running_stats=True)\n",
       "        (act2): SiLU(inplace=True)\n",
       "        (se): SqueezeExcite(\n",
       "          (conv_reduce): Conv2d(1130, 58, kernel_size=(1, 1), stride=(1, 1))\n",
       "          (act1): SiLU(inplace=True)\n",
       "          (conv_expand): Conv2d(58, 1130, kernel_size=(1, 1), stride=(1, 1))\n",
       "        )\n",
       "        (conv_pwl): Conv2d(1130, 232, kernel_size=(1, 1), stride=(1, 1), bias=False)\n",
       "        (bn3): BatchNorm2d(232, eps=0.001, momentum=0.1, affine=True, track_running_stats=True)\n",
       "      )\n",
       "      (5): InvertedResidual(\n",
       "        (conv_pw): Conv2d(232, 1266, kernel_size=(1, 1), stride=(1, 1), bias=False)\n",
       "        (bn1): BatchNorm2d(1266, eps=0.001, momentum=0.1, affine=True, track_running_stats=True)\n",
       "        (act1): SiLU(inplace=True)\n",
       "        (conv_dw): Conv2d(1266, 1266, kernel_size=(5, 5), stride=(1, 1), padding=(2, 2), groups=1266, bias=False)\n",
       "        (bn2): BatchNorm2d(1266, eps=0.001, momentum=0.1, affine=True, track_running_stats=True)\n",
       "        (act2): SiLU(inplace=True)\n",
       "        (se): SqueezeExcite(\n",
       "          (conv_reduce): Conv2d(1266, 58, kernel_size=(1, 1), stride=(1, 1))\n",
       "          (act1): SiLU(inplace=True)\n",
       "          (conv_expand): Conv2d(58, 1266, kernel_size=(1, 1), stride=(1, 1))\n",
       "        )\n",
       "        (conv_pwl): Conv2d(1266, 232, kernel_size=(1, 1), stride=(1, 1), bias=False)\n",
       "        (bn3): BatchNorm2d(232, eps=0.001, momentum=0.1, affine=True, track_running_stats=True)\n",
       "      )\n",
       "    )\n",
       "    (6): Sequential(\n",
       "      (0): InvertedResidual(\n",
       "        (conv_pw): Conv2d(232, 1392, kernel_size=(1, 1), stride=(1, 1), bias=False)\n",
       "        (bn1): BatchNorm2d(1392, eps=0.001, momentum=0.1, affine=True, track_running_stats=True)\n",
       "        (act1): SiLU(inplace=True)\n",
       "        (conv_dw): Conv2d(1392, 1392, kernel_size=(3, 3), stride=(1, 1), padding=(1, 1), groups=1392, bias=False)\n",
       "        (bn2): BatchNorm2d(1392, eps=0.001, momentum=0.1, affine=True, track_running_stats=True)\n",
       "        (act2): SiLU(inplace=True)\n",
       "        (se): SqueezeExcite(\n",
       "          (conv_reduce): Conv2d(1392, 58, kernel_size=(1, 1), stride=(1, 1))\n",
       "          (act1): SiLU(inplace=True)\n",
       "          (conv_expand): Conv2d(58, 1392, kernel_size=(1, 1), stride=(1, 1))\n",
       "        )\n",
       "        (conv_pwl): Conv2d(1392, 384, kernel_size=(1, 1), stride=(1, 1), bias=False)\n",
       "        (bn3): BatchNorm2d(384, eps=0.001, momentum=0.1, affine=True, track_running_stats=True)\n",
       "      )\n",
       "      (1): InvertedResidual(\n",
       "        (conv_pw): Conv2d(384, 2301, kernel_size=(1, 1), stride=(1, 1), bias=False)\n",
       "        (bn1): BatchNorm2d(2301, eps=0.001, momentum=0.1, affine=True, track_running_stats=True)\n",
       "        (act1): SiLU(inplace=True)\n",
       "        (conv_dw): Conv2d(2301, 2301, kernel_size=(3, 3), stride=(1, 1), padding=(1, 1), groups=2301, bias=False)\n",
       "        (bn2): BatchNorm2d(2301, eps=0.001, momentum=0.1, affine=True, track_running_stats=True)\n",
       "        (act2): SiLU(inplace=True)\n",
       "        (se): SqueezeExcite(\n",
       "          (conv_reduce): Conv2d(2301, 96, kernel_size=(1, 1), stride=(1, 1))\n",
       "          (act1): SiLU(inplace=True)\n",
       "          (conv_expand): Conv2d(96, 2301, kernel_size=(1, 1), stride=(1, 1))\n",
       "        )\n",
       "        (conv_pwl): Conv2d(2301, 384, kernel_size=(1, 1), stride=(1, 1), bias=False)\n",
       "        (bn3): BatchNorm2d(384, eps=0.001, momentum=0.1, affine=True, track_running_stats=True)\n",
       "      )\n",
       "    )\n",
       "  )\n",
       "  (conv_head): Conv2d(384, 1536, kernel_size=(1, 1), stride=(1, 1), bias=False)\n",
       "  (bn2): BatchNorm2d(1536, eps=0.001, momentum=0.1, affine=True, track_running_stats=True)\n",
       "  (act2): SiLU(inplace=True)\n",
       "  (global_pool): SelectAdaptivePool2d (pool_type=avg, flatten=True)\n",
       "  (classifier): Linear(in_features=1536, out_features=1000, bias=True)\n",
       ")"
      ]
     },
     "execution_count": 300,
     "metadata": {},
     "output_type": "execute_result"
    }
   ],
   "source": [
    "model = timm.create_model(model_name, pretrained=True)\n",
    "model"
   ]
  },
  {
   "cell_type": "code",
   "execution_count": 301,
   "id": "4a6f2039-76b8-4e06-aeb8-df4d5e7ff08b",
   "metadata": {},
   "outputs": [
    {
     "data": {
      "text/plain": [
       "1000"
      ]
     },
     "execution_count": 301,
     "metadata": {},
     "output_type": "execute_result"
    }
   ],
   "source": [
    "model.num_classes"
   ]
  },
  {
   "cell_type": "code",
   "execution_count": 302,
   "id": "bf84c38b-6a39-41b4-8d63-25d683e85ba6",
   "metadata": {},
   "outputs": [
    {
     "data": {
      "text/plain": [
       "1536"
      ]
     },
     "execution_count": 302,
     "metadata": {},
     "output_type": "execute_result"
    }
   ],
   "source": [
    "model.num_features"
   ]
  },
  {
   "cell_type": "code",
   "execution_count": 303,
   "id": "a88db0aa-ff62-471a-a9d0-224c791c0e14",
   "metadata": {},
   "outputs": [
    {
     "data": {
      "text/plain": [
       "device(type='cpu')"
      ]
     },
     "execution_count": 303,
     "metadata": {},
     "output_type": "execute_result"
    }
   ],
   "source": [
    "next(model.parameters()).device"
   ]
  },
  {
   "cell_type": "markdown",
   "id": "cab15d08-1142-4122-a6d1-79ab0b2f6406",
   "metadata": {},
   "source": [
    "#TODO: 첫 레이어 weight load state로 불러와서 합치고, transform으로 togray했을 때 잘 되나 보기. "
   ]
  },
  {
   "cell_type": "code",
   "execution_count": 279,
   "id": "6802aa14-315f-4145-a082-8d0f4421c310",
   "metadata": {},
   "outputs": [],
   "source": [
    "class MyModel(nn.Module):\n",
    "    \"\"\"Some Information about MyModel\"\"\"\n",
    "    def __init__(self, model_name, num_classes):\n",
    "        super().__init__()\n",
    "        self.model = timm.create_model(model_name, pretrained=True)\n",
    "        n_features = self.model.num_features\n",
    "        self.img_classifier = timm.models.layers.ClassifierHead(n_features, num_classes)\n",
    "\n",
    "    def forward(self, x):\n",
    "        features = self.model.forward_features(x)\n",
    "        x = self.img_classifier(features)\n",
    "\n",
    "        return x"
   ]
  },
  {
   "cell_type": "code",
   "execution_count": 280,
   "id": "951afe43-e4e2-4d69-b195-f0205fdf3dc7",
   "metadata": {},
   "outputs": [],
   "source": [
    "model = MyModel(model_name, 7).to(device)"
   ]
  },
  {
   "cell_type": "code",
   "execution_count": 281,
   "id": "0756ff81-12ff-48ff-9c34-3bb7bb4b8d77",
   "metadata": {},
   "outputs": [
    {
     "data": {
      "text/plain": [
       "device(type='cuda', index=0)"
      ]
     },
     "execution_count": 281,
     "metadata": {},
     "output_type": "execute_result"
    }
   ],
   "source": [
    "next(model.parameters()).device"
   ]
  },
  {
   "cell_type": "markdown",
   "id": "52af5d43-9cde-4274-b4bf-b4614a289f05",
   "metadata": {},
   "source": [
    "## optimizer"
   ]
  },
  {
   "cell_type": "code",
   "execution_count": 282,
   "id": "20908c36-8272-48b4-b2eb-f61878e95fb8",
   "metadata": {},
   "outputs": [
    {
     "data": {
      "text/plain": [
       "AdamW (\n",
       "Parameter Group 0\n",
       "    amsgrad: False\n",
       "    betas: (0.9, 0.999)\n",
       "    eps: 1e-08\n",
       "    lr: 1e-05\n",
       "    weight_decay: 0.01\n",
       ")"
      ]
     },
     "execution_count": 282,
     "metadata": {},
     "output_type": "execute_result"
    }
   ],
   "source": [
    "optimizer = optim.AdamW(\n",
    "    model.parameters(),\n",
    "    lr=lr\n",
    ")\n",
    "optimizer"
   ]
  },
  {
   "cell_type": "code",
   "execution_count": 283,
   "id": "57c17d83-05de-414f-b501-d1f55d7dcf6a",
   "metadata": {},
   "outputs": [],
   "source": [
    "# optimizer = optim.SGD(\n",
    "#     model.parameters(),\n",
    "#     lr=lr,\n",
    "#     momentum=0.9\n",
    "# )\n",
    "# optimizer"
   ]
  },
  {
   "cell_type": "markdown",
   "id": "09f1a42d-1714-490b-b134-99208da7856c",
   "metadata": {},
   "source": [
    "## loss"
   ]
  },
  {
   "cell_type": "code",
   "execution_count": 284,
   "id": "2eb15097-26a9-4a5c-b266-8683e942fa16",
   "metadata": {},
   "outputs": [],
   "source": [
    "class FocalLoss(nn.Module):\n",
    "    def __init__(self, weight=None,\n",
    "                 gamma=2., reduction='mean'):\n",
    "        nn.Module.__init__(self)\n",
    "        self.weight = weight\n",
    "        self.gamma = gamma\n",
    "        self.reduction = reduction\n",
    "\n",
    "    def forward(self, input_tensor, target_tensor):\n",
    "        log_prob = F.log_softmax(input_tensor, dim=-1)\n",
    "        prob = torch.exp(log_prob)\n",
    "        return F.nll_loss(\n",
    "            ((1 - prob) ** self.gamma) * log_prob,\n",
    "            target_tensor,\n",
    "            weight=self.weight,\n",
    "            reduction=self.reduction\n",
    "        )"
   ]
  },
  {
   "cell_type": "code",
   "execution_count": 285,
   "id": "969889ca-c549-4104-bb4b-583516678268",
   "metadata": {},
   "outputs": [],
   "source": [
    "class LabelSmoothingLoss(nn.Module):\n",
    "    def __init__(self, classes=3, smoothing=0.0, dim=-1):\n",
    "        super(LabelSmoothingLoss, self).__init__()\n",
    "        self.confidence = 1.0 - smoothing\n",
    "        self.smoothing = smoothing\n",
    "        self.cls = classes\n",
    "        self.dim = dim\n",
    "\n",
    "    def forward(self, pred, target):\n",
    "        pred = pred.log_softmax(dim=self.dim)\n",
    "        with torch.no_grad():\n",
    "            true_dist = torch.zeros_like(pred)\n",
    "            true_dist.fill_(self.smoothing / (self.cls - 1))\n",
    "            true_dist.scatter_(1, target.data.unsqueeze(1), self.confidence)\n",
    "        return torch.mean(torch.sum(-true_dist * pred, dim=self.dim))"
   ]
  },
  {
   "cell_type": "code",
   "execution_count": 286,
   "id": "55601be4-c92d-4a94-9a42-1fe7b218ea26",
   "metadata": {},
   "outputs": [],
   "source": [
    "# criterion = nn.CrossEntropyLoss()\n",
    "# criterion"
   ]
  },
  {
   "cell_type": "code",
   "execution_count": 287,
   "id": "0b06b707-d8ec-4f2b-b559-a4a8ea1c9252",
   "metadata": {},
   "outputs": [
    {
     "data": {
      "text/plain": [
       "FocalLoss()"
      ]
     },
     "execution_count": 287,
     "metadata": {},
     "output_type": "execute_result"
    }
   ],
   "source": [
    "criterion = FocalLoss()\n",
    "criterion"
   ]
  },
  {
   "cell_type": "code",
   "execution_count": 288,
   "id": "a5f4452d-048f-4a26-af04-c3d0a8c9156f",
   "metadata": {},
   "outputs": [],
   "source": [
    "# criterion = LabelSmoothingLoss()\n",
    "# criterion"
   ]
  },
  {
   "cell_type": "code",
   "execution_count": 289,
   "id": "a6581613-7656-4bec-81fc-4e1b34915e0d",
   "metadata": {},
   "outputs": [],
   "source": [
    "log_interval = 100"
   ]
  },
  {
   "cell_type": "markdown",
   "id": "99215e68-609f-4ef3-83d3-a8c1f904c919",
   "metadata": {},
   "source": [
    "## Train"
   ]
  },
  {
   "cell_type": "markdown",
   "id": "f6dfa14e-b347-407d-a6cb-f5543da50dc2",
   "metadata": {},
   "source": [
    "ToGray 안했을 때 "
   ]
  },
  {
   "cell_type": "code",
   "execution_count": 290,
   "id": "e071be30-8afe-476a-a634-0839e53c2da4",
   "metadata": {},
   "outputs": [
    {
     "name": "stderr",
     "output_type": "stream",
     "text": [
      "1it [00:00,  8.20it/s]"
     ]
    },
    {
     "name": "stdout",
     "output_type": "stream",
     "text": [
      "*** Starting Epoch 0 ***\n"
     ]
    },
    {
     "name": "stderr",
     "output_type": "stream",
     "text": [
      "84it [00:09,  9.18it/s]\n",
      "1it [00:00,  9.17it/s]"
     ]
    },
    {
     "name": "stdout",
     "output_type": "stream",
     "text": [
      "Epoch: 1/15 | 84/84\n",
      "training loss: 1.079021669626236 || training accuracy: 0.345625\n",
      "*** Starting Epoch 1 ***\n"
     ]
    },
    {
     "name": "stderr",
     "output_type": "stream",
     "text": [
      "84it [00:09,  9.19it/s]\n",
      "1it [00:00,  9.17it/s]"
     ]
    },
    {
     "name": "stdout",
     "output_type": "stream",
     "text": [
      "Epoch: 2/15 | 84/84\n",
      "training loss: 0.7200729554891586 || training accuracy: 0.673125\n",
      "*** Starting Epoch 2 ***\n"
     ]
    },
    {
     "name": "stderr",
     "output_type": "stream",
     "text": [
      "84it [00:09,  8.93it/s]\n",
      "1it [00:00,  9.17it/s]"
     ]
    },
    {
     "name": "stdout",
     "output_type": "stream",
     "text": [
      "Epoch: 3/15 | 84/84\n",
      "training loss: 0.4119222640991211 || training accuracy: 0.745\n",
      "*** Starting Epoch 3 ***\n"
     ]
    },
    {
     "name": "stderr",
     "output_type": "stream",
     "text": [
      "84it [00:09,  9.05it/s]\n",
      "1it [00:00,  9.17it/s]"
     ]
    },
    {
     "name": "stdout",
     "output_type": "stream",
     "text": [
      "Epoch: 4/15 | 84/84\n",
      "training loss: 0.23692999087274075 || training accuracy: 0.77875\n",
      "*** Starting Epoch 4 ***\n"
     ]
    },
    {
     "name": "stderr",
     "output_type": "stream",
     "text": [
      "84it [00:09,  8.89it/s]\n",
      "1it [00:00,  8.81it/s]"
     ]
    },
    {
     "name": "stdout",
     "output_type": "stream",
     "text": [
      "Epoch: 5/15 | 84/84\n",
      "training loss: 0.14998927246779203 || training accuracy: 0.79375\n",
      "*** Starting Epoch 5 ***\n"
     ]
    },
    {
     "name": "stderr",
     "output_type": "stream",
     "text": [
      "84it [00:09,  9.02it/s]\n",
      "1it [00:00,  9.09it/s]"
     ]
    },
    {
     "name": "stdout",
     "output_type": "stream",
     "text": [
      "Epoch: 6/15 | 84/84\n",
      "training loss: 0.10845316853374243 || training accuracy: 0.795625\n",
      "*** Starting Epoch 6 ***\n"
     ]
    },
    {
     "name": "stderr",
     "output_type": "stream",
     "text": [
      "84it [00:09,  8.97it/s]\n",
      "1it [00:00,  9.09it/s]"
     ]
    },
    {
     "name": "stdout",
     "output_type": "stream",
     "text": [
      "Epoch: 7/15 | 84/84\n",
      "training loss: 0.09444628788158298 || training accuracy: 0.799375\n",
      "*** Starting Epoch 7 ***\n"
     ]
    },
    {
     "name": "stderr",
     "output_type": "stream",
     "text": [
      "84it [00:09,  9.26it/s]\n",
      "1it [00:00,  9.35it/s]"
     ]
    },
    {
     "name": "stdout",
     "output_type": "stream",
     "text": [
      "Epoch: 8/15 | 84/84\n",
      "training loss: 0.05983520961366594 || training accuracy: 0.81875\n",
      "*** Starting Epoch 8 ***\n"
     ]
    },
    {
     "name": "stderr",
     "output_type": "stream",
     "text": [
      "84it [00:09,  9.26it/s]\n",
      "1it [00:00,  9.35it/s]"
     ]
    },
    {
     "name": "stdout",
     "output_type": "stream",
     "text": [
      "Epoch: 9/15 | 84/84\n",
      "training loss: 0.046424671392887834 || training accuracy: 0.8225\n",
      "*** Starting Epoch 9 ***\n"
     ]
    },
    {
     "name": "stderr",
     "output_type": "stream",
     "text": [
      "84it [00:09,  9.27it/s]\n",
      "1it [00:00,  9.26it/s]"
     ]
    },
    {
     "name": "stdout",
     "output_type": "stream",
     "text": [
      "Epoch: 10/15 | 84/84\n",
      "training loss: 0.04160636509768665 || training accuracy: 0.82125\n",
      "*** Starting Epoch 10 ***\n"
     ]
    },
    {
     "name": "stderr",
     "output_type": "stream",
     "text": [
      "84it [00:09,  9.28it/s]\n",
      "1it [00:00,  8.93it/s]"
     ]
    },
    {
     "name": "stdout",
     "output_type": "stream",
     "text": [
      "Epoch: 11/15 | 84/84\n",
      "training loss: 0.03986584485741332 || training accuracy: 0.82\n",
      "*** Starting Epoch 11 ***\n"
     ]
    },
    {
     "name": "stderr",
     "output_type": "stream",
     "text": [
      "84it [00:09,  9.27it/s]\n",
      "1it [00:00,  9.26it/s]"
     ]
    },
    {
     "name": "stdout",
     "output_type": "stream",
     "text": [
      "Epoch: 12/15 | 84/84\n",
      "training loss: 0.02790178144816309 || training accuracy: 0.830625\n",
      "*** Starting Epoch 12 ***\n"
     ]
    },
    {
     "name": "stderr",
     "output_type": "stream",
     "text": [
      "84it [00:09,  9.25it/s]\n",
      "1it [00:00,  9.52it/s]"
     ]
    },
    {
     "name": "stdout",
     "output_type": "stream",
     "text": [
      "Epoch: 13/15 | 84/84\n",
      "training loss: 0.028054566998034717 || training accuracy: 0.825\n",
      "*** Starting Epoch 13 ***\n"
     ]
    },
    {
     "name": "stderr",
     "output_type": "stream",
     "text": [
      "84it [00:09,  9.23it/s]\n",
      "1it [00:00,  9.52it/s]"
     ]
    },
    {
     "name": "stdout",
     "output_type": "stream",
     "text": [
      "Epoch: 14/15 | 84/84\n",
      "training loss: 0.017452410934492946 || training accuracy: 0.833125\n",
      "*** Starting Epoch 14 ***\n"
     ]
    },
    {
     "name": "stderr",
     "output_type": "stream",
     "text": [
      "84it [00:09,  9.21it/s]"
     ]
    },
    {
     "name": "stdout",
     "output_type": "stream",
     "text": [
      "Epoch: 15/15 | 84/84\n",
      "training loss: 0.017726747271372006 || training accuracy: 0.831875\n"
     ]
    },
    {
     "name": "stderr",
     "output_type": "stream",
     "text": [
      "\n"
     ]
    }
   ],
   "source": [
    "for epoch in range(epochs):\n",
    "    model.train()\n",
    "    running_loss = 0.0\n",
    "    matches = 0\n",
    "    \n",
    "    for i, data in tqdm(enumerate(train_loader, start=0)):\n",
    "        if i == 0:\n",
    "            print(f\"*** Starting Epoch {epoch} ***\")\n",
    "        \n",
    "        inputs = data['image']\n",
    "        labels = data['cat_code']\n",
    "        \n",
    "        inputs = inputs.to(device)\n",
    "        labels = labels.to(device)\n",
    "        \n",
    "        optimizer.zero_grad()\n",
    "        \n",
    "        outs = model(inputs)\n",
    "        preds = torch.argmax(outs, dim=-1)\n",
    "        loss = criterion(outs, labels)\n",
    "        \n",
    "        loss.backward()\n",
    "        optimizer.step()\n",
    "        \n",
    "        running_loss += loss.item()\n",
    "        matches += (preds == labels).sum().item()\n",
    "        \n",
    "        if (i+1) % log_interval == 0 or i == len(train_loader) - 1:\n",
    "            train_loss = running_loss / log_interval\n",
    "            train_acc = matches / batch_size / log_interval\n",
    "            \n",
    "            print(f\"Epoch: {epoch+1}/{epochs} | {i+1}/{len(train_loader)}\")\n",
    "            print(f\"training loss: {train_loss:4} || training accuracy: {train_acc:4}\")\n",
    "            \n",
    "            running_loss = 0.0\n",
    "            matches = 0"
   ]
  },
  {
   "cell_type": "code",
   "execution_count": null,
   "id": "d2856758-f189-4af0-9684-ddc3c4a8c18d",
   "metadata": {},
   "outputs": [],
   "source": []
  },
  {
   "cell_type": "markdown",
   "id": "05b173bd-a8dd-48c2-88d0-71843831a232",
   "metadata": {},
   "source": [
    "## Validation"
   ]
  },
  {
   "cell_type": "code",
   "execution_count": 291,
   "id": "e790dea7-fc01-4e25-9cda-f121acb9942a",
   "metadata": {},
   "outputs": [
    {
     "name": "stderr",
     "output_type": "stream",
     "text": [
      "21it [00:00, 23.58it/s]"
     ]
    },
    {
     "name": "stdout",
     "output_type": "stream",
     "text": [
      "validation loss: 0.024353093258105217 || validation accuracy: 0.19625\n"
     ]
    },
    {
     "name": "stderr",
     "output_type": "stream",
     "text": [
      "\n"
     ]
    }
   ],
   "source": [
    "with torch.no_grad():\n",
    "    model.eval()\n",
    "    val_running_loss = 0.0\n",
    "    val_matches = 0\n",
    "\n",
    "    for i, data in tqdm(enumerate(val_loader, start=0)):\n",
    "\n",
    "        inputs = data['image']\n",
    "        labels = data['cat_code']\n",
    "\n",
    "        inputs = inputs.to(device)\n",
    "        labels = labels.to(device)\n",
    "\n",
    "        outs = model(inputs)\n",
    "        preds = torch.argmax(outs, dim=-1)\n",
    "        loss = criterion(outs, labels)\n",
    "\n",
    "        val_running_loss += loss.item()\n",
    "        val_matches += (preds == labels).sum().item()\n",
    "\n",
    "        if (i+1) % log_interval == 0 or i == len(val_loader) - 1:\n",
    "            val_loss = val_running_loss / log_interval\n",
    "            val_acc = val_matches / batch_size / log_interval\n",
    "            print(f\"validation loss: {val_loss:4} || validation accuracy: {val_acc:4}\")\n",
    "\n",
    "            val_running_loss = 0.0\n",
    "            val_matches = 0"
   ]
  },
  {
   "cell_type": "markdown",
   "id": "4b6b4d34-9217-4067-a208-9b1a2db4f3a3",
   "metadata": {},
   "source": [
    "## Inference"
   ]
  },
  {
   "cell_type": "code",
   "execution_count": 292,
   "id": "45fcb055-a1e1-4f65-8ebe-b8ba3a043807",
   "metadata": {},
   "outputs": [
    {
     "data": {
      "text/plain": [
       "350"
      ]
     },
     "execution_count": 292,
     "metadata": {},
     "output_type": "execute_result"
    }
   ],
   "source": [
    "answer_df = pd.DataFrame()\n",
    "answer_df.loc[:, \"index\"] = range(len(test_l))\n",
    "len(answer_df)"
   ]
  },
  {
   "cell_type": "code",
   "execution_count": 293,
   "id": "fb986e2b-c59b-483c-a2dd-de14f5b742f5",
   "metadata": {},
   "outputs": [
    {
     "name": "stderr",
     "output_type": "stream",
     "text": [
      "22it [00:00, 24.31it/s]\n"
     ]
    }
   ],
   "source": [
    "preds = []\n",
    "\n",
    "with torch.no_grad():\n",
    "    model.eval()\n",
    "\n",
    "    for i, data in tqdm(enumerate(test_loader, start=0)):\n",
    "\n",
    "        inputs = data['image']\n",
    "        inputs = inputs.to(device)\n",
    "\n",
    "        pred = model(inputs)\n",
    "        pred = pred.argmax(dim=-1)\n",
    "        preds.extend(pred.cpu().numpy())        "
   ]
  },
  {
   "cell_type": "code",
   "execution_count": 294,
   "id": "2e4ede89-067d-4b49-bdbc-2a5f1be5fb9d",
   "metadata": {},
   "outputs": [],
   "source": [
    "answer_df.loc[:, \"answer value\"] = preds"
   ]
  },
  {
   "cell_type": "code",
   "execution_count": 295,
   "id": "809563cc-36cd-4a39-96d9-ec9a618ee118",
   "metadata": {},
   "outputs": [],
   "source": [
    "answer_df.to_csv(output_path / \"submission.csv\", index=False)"
   ]
  },
  {
   "cell_type": "code",
   "execution_count": 296,
   "id": "39c42622-518f-44ca-a2b4-ffe0cc64479a",
   "metadata": {},
   "outputs": [
    {
     "data": {
      "text/html": [
       "<div>\n",
       "<style scoped>\n",
       "    .dataframe tbody tr th:only-of-type {\n",
       "        vertical-align: middle;\n",
       "    }\n",
       "\n",
       "    .dataframe tbody tr th {\n",
       "        vertical-align: top;\n",
       "    }\n",
       "\n",
       "    .dataframe thead th {\n",
       "        text-align: right;\n",
       "    }\n",
       "</style>\n",
       "<table border=\"1\" class=\"dataframe\">\n",
       "  <thead>\n",
       "    <tr style=\"text-align: right;\">\n",
       "      <th></th>\n",
       "      <th>index</th>\n",
       "      <th>answer value</th>\n",
       "    </tr>\n",
       "  </thead>\n",
       "  <tbody>\n",
       "    <tr>\n",
       "      <th>0</th>\n",
       "      <td>0</td>\n",
       "      <td>2</td>\n",
       "    </tr>\n",
       "    <tr>\n",
       "      <th>1</th>\n",
       "      <td>1</td>\n",
       "      <td>3</td>\n",
       "    </tr>\n",
       "    <tr>\n",
       "      <th>2</th>\n",
       "      <td>2</td>\n",
       "      <td>3</td>\n",
       "    </tr>\n",
       "    <tr>\n",
       "      <th>3</th>\n",
       "      <td>3</td>\n",
       "      <td>2</td>\n",
       "    </tr>\n",
       "    <tr>\n",
       "      <th>4</th>\n",
       "      <td>4</td>\n",
       "      <td>6</td>\n",
       "    </tr>\n",
       "    <tr>\n",
       "      <th>...</th>\n",
       "      <td>...</td>\n",
       "      <td>...</td>\n",
       "    </tr>\n",
       "    <tr>\n",
       "      <th>345</th>\n",
       "      <td>345</td>\n",
       "      <td>6</td>\n",
       "    </tr>\n",
       "    <tr>\n",
       "      <th>346</th>\n",
       "      <td>346</td>\n",
       "      <td>3</td>\n",
       "    </tr>\n",
       "    <tr>\n",
       "      <th>347</th>\n",
       "      <td>347</td>\n",
       "      <td>3</td>\n",
       "    </tr>\n",
       "    <tr>\n",
       "      <th>348</th>\n",
       "      <td>348</td>\n",
       "      <td>5</td>\n",
       "    </tr>\n",
       "    <tr>\n",
       "      <th>349</th>\n",
       "      <td>349</td>\n",
       "      <td>2</td>\n",
       "    </tr>\n",
       "  </tbody>\n",
       "</table>\n",
       "<p>350 rows × 2 columns</p>\n",
       "</div>"
      ],
      "text/plain": [
       "     index  answer value\n",
       "0        0             2\n",
       "1        1             3\n",
       "2        2             3\n",
       "3        3             2\n",
       "4        4             6\n",
       "..     ...           ...\n",
       "345    345             6\n",
       "346    346             3\n",
       "347    347             3\n",
       "348    348             5\n",
       "349    349             2\n",
       "\n",
       "[350 rows x 2 columns]"
      ]
     },
     "execution_count": 296,
     "metadata": {},
     "output_type": "execute_result"
    }
   ],
   "source": [
    "answer_df"
   ]
  },
  {
   "cell_type": "code",
   "execution_count": 297,
   "id": "07dc3215-701f-46b7-adf6-f90c28c0c7f0",
   "metadata": {},
   "outputs": [
    {
     "name": "stderr",
     "output_type": "stream",
     "text": [
      "C:\\Users\\chlje\\anaconda3\\envs\\deeplearning38\\lib\\site-packages\\seaborn\\_decorators.py:36: FutureWarning: Pass the following variable as a keyword arg: x. From version 0.12, the only valid positional argument will be `data`, and passing other arguments without an explicit keyword will result in an error or misinterpretation.\n",
      "  warnings.warn(\n"
     ]
    },
    {
     "data": {
      "text/plain": [
       "<AxesSubplot:xlabel='answer value', ylabel='count'>"
      ]
     },
     "execution_count": 297,
     "metadata": {},
     "output_type": "execute_result"
    },
    {
     "data": {
      "image/png": "[encoded data removed]",
      "text/plain": [
       "<Figure size 432x288 with 1 Axes>"
      ]
     },
     "metadata": {
      "needs_background": "light"
     },
     "output_type": "display_data"
    }
   ],
   "source": [
    "sns.countplot(answer_df[\"answer value\"])"
   ]
  },
  {
   "cell_type": "markdown",
   "id": "11c7ecd9-2843-434a-8d7a-fcbdea80a3c9",
   "metadata": {},
   "source": [
    "# 실험 기록"
   ]
  },
  {
   "cell_type": "code",
   "execution_count": 298,
   "id": "5f43096d-15da-4eca-912f-87415792ab66",
   "metadata": {},
   "outputs": [],
   "source": [
    "scores = [\n",
    "    84.28571428571429, # baseline, CELoss\n",
    "    87.14285714285714, # label smoothing loss\n",
    "    91.42857142857143, # focal loss (선택)\n",
    "    94.28571428571428, # epoch 10으로 올림 (선택)\n",
    "    90.0, # batch 32로 올림 \n",
    "    92.85714285714286, # batch 8로 줄임\n",
    "    91.42857142857143, # batch 16으로 원상복구, epoch 20으로 올림\n",
    "    90.0, # epoch 15\n",
    "    \n",
    "]"
   ]
  },
  {
   "cell_type": "code",
   "execution_count": 299,
   "id": "9b28f7a9-a02b-4abf-ad31-fc356f139c6c",
   "metadata": {},
   "outputs": [
    {
     "data": {
      "text/plain": [
       "94.28571428571428"
      ]
     },
     "execution_count": 299,
     "metadata": {},
     "output_type": "execute_result"
    }
   ],
   "source": [
    "max(scores)"
   ]
  },
  {
   "cell_type": "code",
   "execution_count": null,
   "id": "11bfde6b-92f4-4135-baeb-7c9041453e7c",
   "metadata": {},
   "outputs": [],
   "source": []
  },
  {
   "cell_type": "code",
   "execution_count": null,
   "id": "34fe5b10-3114-4688-a59a-1ac4fa26bfa3",
   "metadata": {},
   "outputs": [],
   "source": []
  },
  {
   "cell_type": "code",
   "execution_count": null,
   "id": "8a33f5ff-998e-47c0-bd56-6bff1cc01641",
   "metadata": {},
   "outputs": [],
   "source": []
  }
 ],
 "metadata": {
  "kernelspec": {
   "display_name": "Python 3",
   "language": "python",
   "name": "python3"
  },
  "language_info": {
   "codemirror_mode": {
    "name": "ipython",
    "version": 3
   },
   "file_extension": ".py",
   "mimetype": "text/x-python",
   "name": "python",
   "nbconvert_exporter": "python",
   "pygments_lexer": "ipython3",
   "version": "3.8.8"
  }
 },
 "nbformat": 4,
 "nbformat_minor": 5
}
